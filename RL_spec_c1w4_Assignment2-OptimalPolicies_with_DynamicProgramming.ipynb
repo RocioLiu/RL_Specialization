{
 "cells": [
  {
   "cell_type": "markdown",
   "metadata": {
    "deletable": false,
    "editable": false,
    "nbgrader": {
     "checksum": "3996977e7d68ec12f2c9ffcfe5ce214b",
     "grade": false,
     "grade_id": "cell-649fd0b1aa7ccb0f",
     "locked": true,
     "schema_version": 1,
     "solution": false
    }
   },
   "source": [
    "# Assignment 2: Optimal Policies with Dynamic Programming\n",
    "\n",
    "Welcome to Assignment 2. This notebook will help you understand:\n",
    "- Policy Evaluation and Policy Improvement.\n",
    "- Value and Policy Iteration.\n",
    "- Bellman Equations."
   ]
  },
  {
   "cell_type": "markdown",
   "metadata": {
    "deletable": false,
    "editable": false,
    "nbgrader": {
     "checksum": "20729884a9ceb3804a03589ce5938a2d",
     "grade": false,
     "grade_id": "cell-9aafac39a58eeca4",
     "locked": true,
     "schema_version": 1,
     "solution": false
    }
   },
   "source": [
    "## Gridworld City\n",
    "\n",
    "Gridworld City, a thriving metropolis with a booming technology industry, has recently experienced an influx of grid-loving software engineers. Unfortunately, the city's street parking system, which charges a fixed rate, is struggling to keep up with the increased demand. To address this, the city council has decided to modify the pricing scheme to better promote social welfare. In general, the city considers social welfare higher when more parking is being used, the exception being that the city prefers that at least one spot is left unoccupied (so that it is available in case someone really needs it). The city council has created a Markov decision process (MDP) to model the demand for parking with a reward function that reflects its preferences. Now the city has hired you &mdash; an expert in dynamic programming &mdash; to help determine an optimal policy."
   ]
  },
  {
   "cell_type": "markdown",
   "metadata": {
    "deletable": false,
    "editable": false,
    "nbgrader": {
     "checksum": "77a7b97ee700b6ce77ed26bd22749e80",
     "grade": false,
     "grade_id": "cell-28ccff8d1e663850",
     "locked": true,
     "schema_version": 1,
     "solution": false
    }
   },
   "source": [
    "## Preliminaries\n",
    "You'll need two imports to complete this assigment:\n",
    "- numpy: The fundamental package for scientific computing with Python.\n",
    "- tools: A module containing an environment and a plotting function.\n",
    "\n",
    "There are also some other lines in the cell below that are used for grading and plotting &mdash; you needn't worry about them.\n",
    "\n",
    "In this notebook, all cells are locked except those that you are explicitly asked to modify. It is up to you to decide how to implement your solution in these cells, **but please do not import other libraries** &mdash; doing so will break the autograder."
   ]
  },
  {
   "cell_type": "code",
   "execution_count": 1,
   "metadata": {
    "deletable": false,
    "editable": false,
    "nbgrader": {
     "checksum": "f70cbdcd1e273dfc166b366836a4136f",
     "grade": false,
     "grade_id": "cell-c11ff54faaf3fd89",
     "locked": true,
     "schema_version": 1,
     "solution": false
    }
   },
   "outputs": [],
   "source": [
    "%%capture\n",
    "%matplotlib inline\n",
    "import numpy as np\n",
    "import pickle\n",
    "import tools"
   ]
  },
  {
   "cell_type": "markdown",
   "metadata": {
    "deletable": false,
    "editable": false,
    "nbgrader": {
     "checksum": "596fffc2a1391897952fcabe2a8db930",
     "grade": false,
     "grade_id": "cell-4c7c5c4373be59ff",
     "locked": true,
     "schema_version": 1,
     "solution": false
    }
   },
   "source": [
    "In the city council's parking MDP, states are nonnegative integers indicating how many parking spaces are occupied, actions are nonnegative integers designating the price of street parking, the reward is a real value describing the city's preference for the situation, and time is discretized by hour. As might be expected, charging a high price is likely to decrease occupancy over the hour, while charging a low price is likely to increase it.\n",
    "\n",
    "For now, let's consider an environment with three parking spaces and three price points. Note that an environment with three parking spaces actually has four states &mdash; zero, one, two, or three spaces could be occupied."
   ]
  },
  {
   "cell_type": "code",
   "execution_count": 2,
   "metadata": {
    "deletable": false,
    "editable": false,
    "nbgrader": {
     "checksum": "c2e5b06e5166bc03c5075db981280485",
     "grade": false,
     "grade_id": "cell-d25d06a8bafc4c26",
     "locked": true,
     "schema_version": 1,
     "solution": false
    }
   },
   "outputs": [],
   "source": [
    "num_spaces = 3\n",
    "num_prices = 3\n",
    "env = tools.ParkingWorld(num_spaces, num_prices)\n",
    "V = np.zeros(num_spaces + 1)\n",
    "pi = np.ones((num_spaces + 1, num_prices)) / num_prices"
   ]
  },
  {
   "cell_type": "markdown",
   "metadata": {
    "deletable": false,
    "editable": false,
    "nbgrader": {
     "checksum": "0813b0f481e1f2f90e12f38456781410",
     "grade": false,
     "grade_id": "cell-57212e031233c500",
     "locked": true,
     "schema_version": 1,
     "solution": false
    }
   },
   "source": [
    "The value function is a one-dimensional array where the $i$-th entry gives the value of $i$ spaces being occupied."
   ]
  },
  {
   "cell_type": "code",
   "execution_count": 3,
   "metadata": {
    "deletable": false,
    "editable": false,
    "nbgrader": {
     "checksum": "6e59c4a32939d9211dfc0f8fdd939780",
     "grade": false,
     "grade_id": "cell-c5f693a5ff49a888",
     "locked": true,
     "schema_version": 1,
     "solution": false
    }
   },
   "outputs": [
    {
     "data": {
      "text/plain": [
       "array([0., 0., 0., 0.])"
      ]
     },
     "execution_count": 3,
     "metadata": {},
     "output_type": "execute_result"
    }
   ],
   "source": [
    "V"
   ]
  },
  {
   "cell_type": "code",
   "execution_count": 4,
   "metadata": {
    "deletable": false,
    "editable": false,
    "nbgrader": {
     "checksum": "559643d84ae07b1b499ec4c6b9af40bc",
     "grade": false,
     "grade_id": "cell-ac2f8ec29c0c9ab6",
     "locked": true,
     "schema_version": 1,
     "solution": false
    }
   },
   "outputs": [
    {
     "data": {
      "text/plain": [
       "0.0"
      ]
     },
     "execution_count": 4,
     "metadata": {},
     "output_type": "execute_result"
    }
   ],
   "source": [
    "state = 0\n",
    "V[state]"
   ]
  },
  {
   "cell_type": "code",
   "execution_count": 5,
   "metadata": {
    "deletable": false,
    "editable": false,
    "nbgrader": {
     "checksum": "29380e07e1a4da60134db6949d7eb772",
     "grade": false,
     "grade_id": "cell-c829e4ece8bf9412",
     "locked": true,
     "schema_version": 1,
     "solution": false
    }
   },
   "outputs": [
    {
     "data": {
      "text/plain": [
       "array([10.,  0.,  0.,  0.])"
      ]
     },
     "execution_count": 5,
     "metadata": {},
     "output_type": "execute_result"
    }
   ],
   "source": [
    "state = 0\n",
    "value = 10\n",
    "V[state] = value\n",
    "V"
   ]
  },
  {
   "cell_type": "code",
   "execution_count": 6,
   "metadata": {
    "deletable": false,
    "editable": false,
    "nbgrader": {
     "checksum": "a296188c40952607943d9eddbd021f81",
     "grade": false,
     "grade_id": "cell-cb5bc5279787faad",
     "locked": true,
     "schema_version": 1,
     "solution": false
    }
   },
   "outputs": [
    {
     "name": "stdout",
     "output_type": "stream",
     "text": [
      "State 0 has value 10.0\n",
      "State 1 has value 0.0\n",
      "State 2 has value 0.0\n",
      "State 3 has value 0.0\n"
     ]
    }
   ],
   "source": [
    "for s, v in enumerate(V):\n",
    "    print(f'State {s} has value {v}')"
   ]
  },
  {
   "cell_type": "markdown",
   "metadata": {
    "deletable": false,
    "editable": false,
    "nbgrader": {
     "checksum": "cb305ee8a8d6e293a48b96ace69bfb53",
     "grade": false,
     "grade_id": "cell-57154206afc97770",
     "locked": true,
     "schema_version": 1,
     "solution": false
    }
   },
   "source": [
    "The policy is a two-dimensional array where the $(i, j)$-th entry gives the probability of taking action $j$ in state $i$."
   ]
  },
  {
   "cell_type": "code",
   "execution_count": 7,
   "metadata": {
    "deletable": false,
    "editable": false,
    "nbgrader": {
     "checksum": "d732d93b6545408fa819526c2e52a0cf",
     "grade": false,
     "grade_id": "cell-85c017bb1e6fe4df",
     "locked": true,
     "schema_version": 1,
     "solution": false
    }
   },
   "outputs": [
    {
     "data": {
      "text/plain": [
       "array([[0.33333333, 0.33333333, 0.33333333],\n",
       "       [0.33333333, 0.33333333, 0.33333333],\n",
       "       [0.33333333, 0.33333333, 0.33333333],\n",
       "       [0.33333333, 0.33333333, 0.33333333]])"
      ]
     },
     "execution_count": 7,
     "metadata": {},
     "output_type": "execute_result"
    }
   ],
   "source": [
    "pi"
   ]
  },
  {
   "cell_type": "code",
   "execution_count": 8,
   "metadata": {
    "deletable": false,
    "editable": false,
    "nbgrader": {
     "checksum": "3b5bc8eebf9c09786a2a966cadcf0400",
     "grade": false,
     "grade_id": "cell-92a61a07d9f0bf04",
     "locked": true,
     "schema_version": 1,
     "solution": false
    }
   },
   "outputs": [
    {
     "data": {
      "text/plain": [
       "array([0.33333333, 0.33333333, 0.33333333])"
      ]
     },
     "execution_count": 8,
     "metadata": {},
     "output_type": "execute_result"
    }
   ],
   "source": [
    "state = 0\n",
    "pi[state]"
   ]
  },
  {
   "cell_type": "code",
   "execution_count": 9,
   "metadata": {
    "deletable": false,
    "editable": false,
    "nbgrader": {
     "checksum": "4780c63332dfc7f65a998403c2a4bf21",
     "grade": false,
     "grade_id": "cell-0e224545b27d80c7",
     "locked": true,
     "schema_version": 1,
     "solution": false
    }
   },
   "outputs": [
    {
     "data": {
      "text/plain": [
       "0.3333333333333333"
      ]
     },
     "execution_count": 9,
     "metadata": {},
     "output_type": "execute_result"
    }
   ],
   "source": [
    "state = 0\n",
    "action = 1\n",
    "pi[state, action]"
   ]
  },
  {
   "cell_type": "code",
   "execution_count": 10,
   "metadata": {
    "deletable": false,
    "editable": false,
    "nbgrader": {
     "checksum": "ba7a14554c52279e4cfe7818982b914e",
     "grade": false,
     "grade_id": "cell-1f5e3fcf8d0384b9",
     "locked": true,
     "schema_version": 1,
     "solution": false
    }
   },
   "outputs": [
    {
     "data": {
      "text/plain": [
       "array([[0.75      , 0.21      , 0.04      ],\n",
       "       [0.33333333, 0.33333333, 0.33333333],\n",
       "       [0.33333333, 0.33333333, 0.33333333],\n",
       "       [0.33333333, 0.33333333, 0.33333333]])"
      ]
     },
     "execution_count": 10,
     "metadata": {},
     "output_type": "execute_result"
    }
   ],
   "source": [
    "pi[state] = np.array([0.75, 0.21, 0.04])\n",
    "pi"
   ]
  },
  {
   "cell_type": "code",
   "execution_count": 11,
   "metadata": {
    "deletable": false,
    "editable": false,
    "nbgrader": {
     "checksum": "1cf19333d9690caba29729b2d8fed55c",
     "grade": false,
     "grade_id": "cell-d7d514ba81bc686c",
     "locked": true,
     "schema_version": 1,
     "solution": false
    }
   },
   "outputs": [
    {
     "name": "stdout",
     "output_type": "stream",
     "text": [
      "pi(A=0|S=0) = 0.75    pi(A=1|S=0) = 0.21    pi(A=2|S=0) = 0.04    \n",
      "pi(A=0|S=1) = 0.33    pi(A=1|S=1) = 0.33    pi(A=2|S=1) = 0.33    \n",
      "pi(A=0|S=2) = 0.33    pi(A=1|S=2) = 0.33    pi(A=2|S=2) = 0.33    \n",
      "pi(A=0|S=3) = 0.33    pi(A=1|S=3) = 0.33    pi(A=2|S=3) = 0.33    \n"
     ]
    }
   ],
   "source": [
    "for s, pi_s in enumerate(pi):\n",
    "    print(f''.join(f'pi(A={a}|S={s}) = {p.round(2)}' + 4 * ' ' for a, p in enumerate(pi_s)))"
   ]
  },
  {
   "cell_type": "code",
   "execution_count": 12,
   "metadata": {},
   "outputs": [
    {
     "name": "stdout",
     "output_type": "stream",
     "text": [
      "pi(A=0|S=0) = 0.75\n",
      "pi(A=1|S=0) = 0.21\n",
      "pi(A=2|S=0) = 0.04\n",
      "pi(A=0|S=1) = 0.33\n",
      "pi(A=1|S=1) = 0.33\n",
      "pi(A=2|S=1) = 0.33\n",
      "pi(A=0|S=2) = 0.33\n",
      "pi(A=1|S=2) = 0.33\n",
      "pi(A=2|S=2) = 0.33\n",
      "pi(A=0|S=3) = 0.33\n",
      "pi(A=1|S=3) = 0.33\n",
      "pi(A=2|S=3) = 0.33\n"
     ]
    }
   ],
   "source": [
    "for s, pi_s in enumerate(pi):\n",
    "    for a, p in enumerate(pi_s):\n",
    "        print('pi(A={}|S={}) = {}'.format(a, s, p.round(2)))"
   ]
  },
  {
   "cell_type": "code",
   "execution_count": 13,
   "metadata": {},
   "outputs": [
    {
     "name": "stdout",
     "output_type": "stream",
     "text": [
      "pi(A=0|S=0) = 0.75    pi(A=1|S=0) = 0.21    pi(A=2|S=0) = 0.04\n",
      "pi(A=0|S=1) = 0.33    pi(A=1|S=1) = 0.33    pi(A=2|S=1) = 0.33\n",
      "pi(A=0|S=2) = 0.33    pi(A=1|S=2) = 0.33    pi(A=2|S=2) = 0.33\n",
      "pi(A=0|S=3) = 0.33    pi(A=1|S=3) = 0.33    pi(A=2|S=3) = 0.33\n"
     ]
    }
   ],
   "source": [
    "for s, pi_s in enumerate(pi):\n",
    "    print('    '.join('pi(A={}|S={}) = {}'.format(a, s, p.round(2)) for a, p in enumerate(pi_s)))"
   ]
  },
  {
   "cell_type": "code",
   "execution_count": 14,
   "metadata": {
    "deletable": false,
    "editable": false,
    "nbgrader": {
     "checksum": "cdff0c353f33f3cfd7413c141fa4d317",
     "grade": false,
     "grade_id": "cell-46b46b0dc80c68c7",
     "locked": true,
     "schema_version": 1,
     "solution": false
    }
   },
   "outputs": [
    {
     "data": {
      "image/png": "[encoded data removed]",
      "text/plain": [
       "<Figure size 900x360 with 3 Axes>"
      ]
     },
     "metadata": {},
     "output_type": "display_data"
    }
   ],
   "source": [
    "tools.plot(V, pi)"
   ]
  },
  {
   "cell_type": "code",
   "execution_count": 15,
   "metadata": {},
   "outputs": [],
   "source": [
    "import matplotlib.pyplot as plt\n",
    "from matplotlib.ticker import MaxNLocator, AutoMinorLocator"
   ]
  },
  {
   "cell_type": "code",
   "execution_count": 16,
   "metadata": {},
   "outputs": [
    {
     "data": {
      "text/plain": [
       "[<matplotlib.axis.XTick at 0x7fb28a6103c8>,\n",
       " <matplotlib.axis.XTick at 0x7fb28a608f60>,\n",
       " <matplotlib.axis.XTick at 0x7fb28a5ce128>,\n",
       " <matplotlib.axis.XTick at 0x7fb28a5ce588>]"
      ]
     },
     "execution_count": 16,
     "metadata": {},
     "output_type": "execute_result"
    },
    {
     "data": {
      "image/png": "[encoded data removed]",
      "text/plain": [
       "<Figure size 900x360 with 2 Axes>"
      ]
     },
     "metadata": {
      "needs_background": "light"
     },
     "output_type": "display_data"
    }
   ],
   "source": [
    "fig, (ax1, ax2) = plt.subplots(1, 2, figsize=(12.5, 5))\n",
    "ax1.axis('on')\n",
    "ax1.cla()\n",
    "states = np.arange(V.shape[0])\n",
    "ax1.bar(states, V, edgecolor='none')\n",
    "ax1.set_xlabel('State')\n",
    "ax1.set_ylabel('Value', rotation='horizontal', ha='right')\n",
    "ax1.set_title('Value Function')\n",
    "ax1.xaxis.set_major_locator(MaxNLocator(integer=True, nbins=6))\n",
    "ax1.yaxis.grid()\n",
    "ax1.set_ylim(bottom=V.min())\n",
    "\n",
    "# Plot policy\n",
    "ax2.axis('on')\n",
    "ax2.cla()\n",
    "im = plt.imshow(pi.T, cmap='Greys', vmin=0, vmax=1, aspect='auto')\n",
    "ax2.invert_yaxis()\n",
    "ax2.set_xlabel('State')\n",
    "ax2.set_ylabel('Action', rotation='horizontal', ha='right')\n",
    "ax2.set_title('Policy')\n",
    "start, end = ax2.get_xlim()\n",
    "ax2.xaxis.set_ticks(np.arange(start, end), minor=True)"
   ]
  },
  {
   "cell_type": "code",
   "execution_count": 17,
   "metadata": {},
   "outputs": [
    {
     "ename": "IndentationError",
     "evalue": "unexpected indent (<ipython-input-17-10f2ae5a943c>, line 2)",
     "output_type": "error",
     "traceback": [
      "\u001b[0;36m  File \u001b[0;32m\"<ipython-input-17-10f2ae5a943c>\"\u001b[0;36m, line \u001b[0;32m2\u001b[0m\n\u001b[0;31m    ax1.axis('on')\u001b[0m\n\u001b[0m    ^\u001b[0m\n\u001b[0;31mIndentationError\u001b[0m\u001b[0;31m:\u001b[0m unexpected indent\n"
     ]
    }
   ],
   "source": [
    "fig, (ax1, ax2) = plt.subplots(1, 2, figsize=(12.5, 5))\n",
    "    ax1.axis('on')\n",
    "    ax1.cla()\n",
    "    states = np.arange(V.shape[0])\n",
    "    ax1.bar(states, V, edgecolor='none')\n",
    "    ax1.set_xlabel('State')\n",
    "    ax1.set_ylabel('Value', rotation='horizontal', ha='right')\n",
    "    ax1.set_title('Value Function')\n",
    "    ax1.xaxis.set_major_locator(MaxNLocator(integer=True, nbins=6))\n",
    "    ax1.yaxis.grid()\n",
    "    ax1.set_ylim(bottom=V.min())\n",
    "    # plot policy\n",
    "    ax2.axis('on')\n",
    "    ax2.cla()\n",
    "    im = ax2.imshow(pi.T, cmap='Greys', vmin=0, vmax=1, aspect='auto')\n",
    "    ax2.invert_yaxis()\n",
    "    ax2.set_xlabel('State')\n",
    "    ax2.set_ylabel('Action', rotation='horizontal', ha='right')\n",
    "    ax2.set_title('Policy')\n",
    "    start, end = ax2.get_xlim()\n",
    "    ax2.xaxis.set_ticks(np.arange(start, end), minor=True)\n",
    "    ax2.xaxis.set_major_locator(MaxNLocator(integer=True, nbins=6))\n",
    "    ax2.yaxis.set_major_locator(MaxNLocator(integer=True, nbins=6))\n",
    "    start, end = ax2.get_ylim()\n",
    "    ax2.yaxis.set_ticks(np.arange(start, end), minor=True)\n",
    "    ax2.grid(which='minor')\n",
    "    divider = make_axes_locatable(ax2)\n",
    "    cax = divider.append_axes('right', size='5%', pad=0.20)\n",
    "    cbar = fig.colorbar(im, cax=cax, orientation='vertical')\n",
    "    cbar.set_label('Probability', rotation=0, ha='left')\n",
    "    fig.subplots_adjust(wspace=0.5)\n",
    "    display.clear_output(wait=True)\n",
    "    display.display(fig)\n",
    "    time.sleep(0.001)\n",
    "    plt.close()"
   ]
  },
  {
   "cell_type": "markdown",
   "metadata": {
    "deletable": false,
    "editable": false,
    "nbgrader": {
     "checksum": "4f450ea0212f959d952e9b0272e57cf3",
     "grade": false,
     "grade_id": "cell-ce3ac9318671059d",
     "locked": true,
     "schema_version": 1,
     "solution": false
    }
   },
   "source": [
    "We can visualize a value function and policy with the `plot` function in the `tools` module. On the left, the value function is displayed as a barplot. State zero has an expected return of ten, while the other states have an expected return of zero. On the right, the policy is displayed on a two-dimensional grid. Each vertical strip gives the policy at the labeled state. In state zero, action zero is the darkest because the agent's policy makes this choice with the highest probability. In the other states the agent has the equiprobable policy, so the vertical strips are colored uniformly."
   ]
  },
  {
   "cell_type": "markdown",
   "metadata": {
    "deletable": false,
    "editable": false,
    "nbgrader": {
     "checksum": "049e3d7344e203034323e1f86a503ee4",
     "grade": false,
     "grade_id": "cell-3975c91dbe24e9e8",
     "locked": true,
     "schema_version": 1,
     "solution": false
    }
   },
   "source": [
    "You can access the state space and the action set as attributes of the environment."
   ]
  },
  {
   "cell_type": "code",
   "execution_count": 18,
   "metadata": {
    "deletable": false,
    "editable": false,
    "nbgrader": {
     "checksum": "4fafc756424773278069199ff876300e",
     "grade": false,
     "grade_id": "cell-94d868709c1a9eba",
     "locked": true,
     "schema_version": 1,
     "solution": false
    }
   },
   "outputs": [
    {
     "data": {
      "text/plain": [
       "[0, 1, 2, 3]"
      ]
     },
     "execution_count": 18,
     "metadata": {},
     "output_type": "execute_result"
    }
   ],
   "source": [
    "env.S"
   ]
  },
  {
   "cell_type": "code",
   "execution_count": 19,
   "metadata": {
    "deletable": false,
    "editable": false,
    "nbgrader": {
     "checksum": "dc72712f4890361c35c0b19f0df5befd",
     "grade": false,
     "grade_id": "cell-6f16d9e8ebf01b60",
     "locked": true,
     "schema_version": 1,
     "solution": false
    }
   },
   "outputs": [
    {
     "data": {
      "text/plain": [
       "[0, 1, 2]"
      ]
     },
     "execution_count": 19,
     "metadata": {},
     "output_type": "execute_result"
    }
   ],
   "source": [
    "env.A"
   ]
  },
  {
   "cell_type": "markdown",
   "metadata": {
    "deletable": false,
    "editable": false,
    "nbgrader": {
     "checksum": "12e6b88d7cf8ec6d20c7e14e3d43b5e2",
     "grade": false,
     "grade_id": "cell-927e52efe516a816",
     "locked": true,
     "schema_version": 1,
     "solution": false
    }
   },
   "source": [
    "You will need to use the environment's `transitions` method to complete this assignment. The method takes a state and an action and returns a 2-dimensional array, where the entry at $(i, 0)$ is the reward for transitioning to state $i$ from the current state and the entry at $(i, 1)$ is the conditional probability of transitioning to state $i$ given the current state and action."
   ]
  },
  {
   "cell_type": "code",
   "execution_count": 20,
   "metadata": {
    "deletable": false,
    "editable": false,
    "nbgrader": {
     "checksum": "4d32e329bafe53f2061e6b577751f291",
     "grade": false,
     "grade_id": "cell-4185982b1a21cd04",
     "locked": true,
     "schema_version": 1,
     "solution": false
    }
   },
   "outputs": [
    {
     "data": {
      "text/plain": [
       "array([[1.        , 0.12390437],\n",
       "       [2.        , 0.15133714],\n",
       "       [3.        , 0.1848436 ],\n",
       "       [2.        , 0.53991488]])"
      ]
     },
     "execution_count": 20,
     "metadata": {},
     "output_type": "execute_result"
    }
   ],
   "source": [
    "state = 3\n",
    "action = 1\n",
    "transitions = env.transitions(state, action)\n",
    "transitions"
   ]
  },
  {
   "cell_type": "code",
   "execution_count": 21,
   "metadata": {
    "deletable": false,
    "editable": false,
    "nbgrader": {
     "checksum": "768d9dfafd5bb70c8d3641fb6fb17ce3",
     "grade": false,
     "grade_id": "cell-379fdb797cae3afb",
     "locked": true,
     "schema_version": 1,
     "solution": false
    }
   },
   "outputs": [
    {
     "name": "stdout",
     "output_type": "stream",
     "text": [
      "p(S'=0, R=1.0 | S=3, A=1) = 0.12\n",
      "p(S'=1, R=2.0 | S=3, A=1) = 0.15\n",
      "p(S'=2, R=3.0 | S=3, A=1) = 0.18\n",
      "p(S'=3, R=2.0 | S=3, A=1) = 0.54\n"
     ]
    }
   ],
   "source": [
    "for s_, (r, p) in enumerate(transitions):\n",
    "    print(f'p(S\\'={s_}, R={r} | S={state}, A={action}) = {p.round(2)}')"
   ]
  },
  {
   "cell_type": "code",
   "execution_count": 22,
   "metadata": {},
   "outputs": [
    {
     "name": "stdout",
     "output_type": "stream",
     "text": [
      "p(S'=0, R=1.0 | S=3, A=1) = 0.12\n",
      "p(S'=1, R=2.0 | S=3, A=1) = 0.15\n",
      "p(S'=2, R=3.0 | S=3, A=1) = 0.18\n",
      "p(S'=3, R=2.0 | S=3, A=1) = 0.54\n"
     ]
    }
   ],
   "source": [
    "for s_, (r, p) in enumerate(transitions):\n",
    "    print('p(S\\'={}, R={} | S={}, A={}) = {}'.format(s_, r, state, action, p.round(2)))"
   ]
  },
  {
   "cell_type": "markdown",
   "metadata": {
    "deletable": false,
    "editable": false,
    "nbgrader": {
     "checksum": "0869f6736a9ab680b0c82dccf72ba11c",
     "grade": false,
     "grade_id": "cell-141d4e3806427283",
     "locked": true,
     "schema_version": 1,
     "solution": false
    }
   },
   "source": [
    "## Section 1: Policy Evaluation\n",
    "\n",
    "You're now ready to begin the assignment! First, the city council would like you to evaluate the quality of the existing pricing scheme. Policy evaluation works by iteratively applying the Bellman equation for $v_{\\pi}$ to a working value function, as an update rule, as shown below.\n",
    "\n",
    "$$\\large v(s) \\leftarrow \\sum_a \\pi(a | s) \\sum_{s', r} p(s', r | s, a)[r + \\gamma v(s')]$$\n",
    "This update can either occur \"in-place\" (i.e. the update rule is sequentially applied to each state) or with \"two-arrays\" (i.e. the update rule is simultaneously applied to each state). Both versions converge to $v_{\\pi}$ but the in-place version usually converges faster. **In this assignment, we will be implementing all update rules in-place**, as is done in the pseudocode of chapter 4 of the textbook. \n",
    "\n",
    "We have written an outline of the policy evaluation algorithm described in chapter 4.1 of the textbook. It is left to you to fill in the `bellman_update` function to complete the algorithm."
   ]
  },
  {
   "cell_type": "code",
   "execution_count": 58,
   "metadata": {
    "deletable": false,
    "editable": false,
    "nbgrader": {
     "checksum": "732aa9563f9fa2209380be4dcfc22c31",
     "grade": false,
     "grade_id": "cell-8d04cf6f6f397e17",
     "locked": true,
     "schema_version": 1,
     "solution": false
    }
   },
   "outputs": [],
   "source": [
    "def evaluate_policy(env, V, pi, gamma, theta):\n",
    "    while True:\n",
    "        delta = 0\n",
    "        for s in env.S:\n",
    "            v = V[s]\n",
    "            bellman_update(env, V, pi, s, gamma)\n",
    "            delta = max(delta, abs(v - V[s]))\n",
    "        if delta < theta:\n",
    "            break\n",
    "    return V"
   ]
  },
  {
   "cell_type": "code",
   "execution_count": 59,
   "metadata": {
    "deletable": false,
    "nbgrader": {
     "checksum": "c8aad24b28e1eaf3fd87481be87f89e1",
     "grade": false,
     "grade_id": "cell-4113388a5f8401b6",
     "locked": false,
     "schema_version": 1,
     "solution": true
    }
   },
   "outputs": [],
   "source": [
    "# [Graded]\n",
    "def bellman_update(env, V, pi, s, gamma):\n",
    "    \"\"\"Mutate ``V`` according to the Bellman update equation.\"\"\"\n",
    "    ### START CODE HERE ###\n",
    "    v_prime = 0\n",
    "    for a in env.A:\n",
    "        for s_, (r, p) in enumerate(env.transitions(s, a)):\n",
    "            v_prime += pi[s, a] * (p * (r + gamma*V[s_]))\n",
    "    V[s] = v_prime\n",
    "    ### END CODE HERE ###"
   ]
  },
  {
   "cell_type": "code",
   "execution_count": null,
   "metadata": {},
   "outputs": [],
   "source": [
    "#--------- try -------------"
   ]
  },
  {
   "cell_type": "code",
   "execution_count": 25,
   "metadata": {},
   "outputs": [
    {
     "name": "stdout",
     "output_type": "stream",
     "text": [
      "No regex pattern specified. Nothing done.\n"
     ]
    }
   ],
   "source": [
    "%reset_selective -f\n",
    "num_spaces = 10\n",
    "num_prices = 4\n",
    "env = tools.ParkingWorld(num_spaces, num_prices)\n",
    "V = np.zeros(num_spaces + 1)\n",
    "city_policy = np.zeros((num_spaces + 1, num_prices))\n",
    "city_policy[:, 1] = 1\n",
    "pi = city_policy\n",
    "gamma = 0.9\n",
    "theta = 0.1"
   ]
  },
  {
   "cell_type": "code",
   "execution_count": 141,
   "metadata": {},
   "outputs": [
    {
     "name": "stdout",
     "output_type": "stream",
     "text": [
      "state: 0\n",
      "initial value of state 0 : 43.53286357968816\n",
      "action: 0\n",
      "p(S'=0, R=0.0 | S=0, A=0) = 0.13\n",
      "p(S'=1, R=1.0 | S=0, A=0) = 0.16\n",
      "p(S'=2, R=2.0 | S=0, A=0) = 0.13\n",
      "p(S'=3, R=3.0 | S=0, A=0) = 0.11\n",
      "p(S'=4, R=4.0 | S=0, A=0) = 0.09\n",
      "p(S'=5, R=5.0 | S=0, A=0) = 0.07\n",
      "p(S'=6, R=6.0 | S=0, A=0) = 0.06\n",
      "p(S'=7, R=7.0 | S=0, A=0) = 0.05\n",
      "p(S'=8, R=8.0 | S=0, A=0) = 0.04\n",
      "p(S'=9, R=9.0 | S=0, A=0) = 0.03\n",
      "p(S'=10, R=3.333333333333333 | S=0, A=0) = 0.13\n",
      "value after action 0 : 0.0\n",
      "action: 1\n",
      "p(S'=0, R=0.0 | S=0, A=1) = 0.14\n",
      "p(S'=1, R=1.0 | S=0, A=1) = 0.16\n",
      "p(S'=2, R=2.0 | S=0, A=1) = 0.13\n",
      "p(S'=3, R=3.0 | S=0, A=1) = 0.11\n",
      "p(S'=4, R=4.0 | S=0, A=1) = 0.09\n",
      "p(S'=5, R=5.0 | S=0, A=1) = 0.07\n",
      "p(S'=6, R=6.0 | S=0, A=1) = 0.06\n",
      "p(S'=7, R=7.0 | S=0, A=1) = 0.05\n",
      "p(S'=8, R=8.0 | S=0, A=1) = 0.04\n",
      "p(S'=9, R=9.0 | S=0, A=1) = 0.03\n",
      "p(S'=10, R=3.333333333333333 | S=0, A=1) = 0.13\n",
      "value after action 1 : 49.111518445477635\n",
      "action: 2\n",
      "p(S'=0, R=0.0 | S=0, A=2) = 0.16\n",
      "p(S'=1, R=1.0 | S=0, A=2) = 0.16\n",
      "p(S'=2, R=2.0 | S=0, A=2) = 0.13\n",
      "p(S'=3, R=3.0 | S=0, A=2) = 0.1\n",
      "p(S'=4, R=4.0 | S=0, A=2) = 0.09\n",
      "p(S'=5, R=5.0 | S=0, A=2) = 0.07\n",
      "p(S'=6, R=6.0 | S=0, A=2) = 0.06\n",
      "p(S'=7, R=7.0 | S=0, A=2) = 0.05\n",
      "p(S'=8, R=8.0 | S=0, A=2) = 0.04\n",
      "p(S'=9, R=9.0 | S=0, A=2) = 0.03\n",
      "p(S'=10, R=3.333333333333333 | S=0, A=2) = 0.12\n",
      "value after action 2 : 49.111518445477635\n",
      "action: 3\n",
      "p(S'=0, R=0.0 | S=0, A=3) = 0.17\n",
      "p(S'=1, R=1.0 | S=0, A=3) = 0.15\n",
      "p(S'=2, R=2.0 | S=0, A=3) = 0.13\n",
      "p(S'=3, R=3.0 | S=0, A=3) = 0.1\n",
      "p(S'=4, R=4.0 | S=0, A=3) = 0.08\n",
      "p(S'=5, R=5.0 | S=0, A=3) = 0.07\n",
      "p(S'=6, R=6.0 | S=0, A=3) = 0.06\n",
      "p(S'=7, R=7.0 | S=0, A=3) = 0.05\n",
      "p(S'=8, R=8.0 | S=0, A=3) = 0.04\n",
      "p(S'=9, R=9.0 | S=0, A=3) = 0.03\n",
      "p(S'=10, R=3.333333333333333 | S=0, A=3) = 0.12\n",
      "value after action 3 : 49.111518445477635\n",
      "V( 0 ): 49.111518445477635\n",
      "delta: 5.578654865789474\n",
      "------\n",
      "state: 1\n",
      "initial value of state 1 : 45.934199803709696\n",
      "action: 0\n",
      "p(S'=0, R=1.0 | S=1, A=0) = 0.1\n",
      "p(S'=1, R=2.0 | S=1, A=0) = 0.12\n",
      "p(S'=2, R=3.0 | S=1, A=0) = 0.14\n",
      "p(S'=3, R=4.0 | S=1, A=0) = 0.12\n",
      "p(S'=4, R=5.0 | S=1, A=0) = 0.1\n",
      "p(S'=5, R=6.0 | S=1, A=0) = 0.08\n",
      "p(S'=6, R=7.0 | S=1, A=0) = 0.06\n",
      "p(S'=7, R=8.0 | S=1, A=0) = 0.05\n",
      "p(S'=8, R=9.0 | S=1, A=0) = 0.04\n",
      "p(S'=9, R=10.0 | S=1, A=0) = 0.04\n",
      "p(S'=10, R=4.333333333333333 | S=1, A=0) = 0.14\n",
      "value after action 0 : 0.0\n",
      "action: 1\n",
      "p(S'=0, R=1.0 | S=1, A=1) = 0.11\n",
      "p(S'=1, R=2.0 | S=1, A=1) = 0.13\n",
      "p(S'=2, R=3.0 | S=1, A=1) = 0.14\n",
      "p(S'=3, R=4.0 | S=1, A=1) = 0.12\n",
      "p(S'=4, R=5.0 | S=1, A=1) = 0.09\n",
      "p(S'=5, R=6.0 | S=1, A=1) = 0.08\n",
      "p(S'=6, R=7.0 | S=1, A=1) = 0.06\n",
      "p(S'=7, R=8.0 | S=1, A=1) = 0.05\n",
      "p(S'=8, R=9.0 | S=1, A=1) = 0.04\n",
      "p(S'=9, R=10.0 | S=1, A=1) = 0.03\n",
      "p(S'=10, R=4.333333333333333 | S=1, A=1) = 0.14\n",
      "value after action 1 : 51.3946710247054\n",
      "action: 2\n",
      "p(S'=0, R=1.0 | S=1, A=2) = 0.12\n",
      "p(S'=1, R=2.0 | S=1, A=2) = 0.14\n",
      "p(S'=2, R=3.0 | S=1, A=2) = 0.14\n",
      "p(S'=3, R=4.0 | S=1, A=2) = 0.11\n",
      "p(S'=4, R=5.0 | S=1, A=2) = 0.09\n",
      "p(S'=5, R=6.0 | S=1, A=2) = 0.08\n",
      "p(S'=6, R=7.0 | S=1, A=2) = 0.06\n",
      "p(S'=7, R=8.0 | S=1, A=2) = 0.05\n",
      "p(S'=8, R=9.0 | S=1, A=2) = 0.04\n",
      "p(S'=9, R=10.0 | S=1, A=2) = 0.03\n",
      "p(S'=10, R=4.333333333333333 | S=1, A=2) = 0.13\n",
      "value after action 2 : 51.3946710247054\n",
      "action: 3\n",
      "p(S'=0, R=1.0 | S=1, A=3) = 0.13\n",
      "p(S'=1, R=2.0 | S=1, A=3) = 0.15\n",
      "p(S'=2, R=3.0 | S=1, A=3) = 0.13\n",
      "p(S'=3, R=4.0 | S=1, A=3) = 0.11\n",
      "p(S'=4, R=5.0 | S=1, A=3) = 0.09\n",
      "p(S'=5, R=6.0 | S=1, A=3) = 0.07\n",
      "p(S'=6, R=7.0 | S=1, A=3) = 0.06\n",
      "p(S'=7, R=8.0 | S=1, A=3) = 0.05\n",
      "p(S'=8, R=9.0 | S=1, A=3) = 0.04\n",
      "p(S'=9, R=10.0 | S=1, A=3) = 0.03\n",
      "p(S'=10, R=4.333333333333333 | S=1, A=3) = 0.13\n",
      "value after action 3 : 51.3946710247054\n",
      "V( 1 ): 51.3946710247054\n",
      "delta: 5.578654865789474\n",
      "------\n",
      "state: 2\n",
      "initial value of state 2 : 48.27655109577442\n",
      "action: 0\n",
      "p(S'=0, R=2.0 | S=2, A=0) = 0.08\n",
      "p(S'=1, R=3.0 | S=2, A=0) = 0.1\n",
      "p(S'=2, R=4.0 | S=2, A=0) = 0.12\n",
      "p(S'=3, R=5.0 | S=2, A=0) = 0.13\n",
      "p(S'=4, R=6.0 | S=2, A=0) = 0.11\n",
      "p(S'=5, R=7.0 | S=2, A=0) = 0.09\n",
      "p(S'=6, R=8.0 | S=2, A=0) = 0.07\n",
      "p(S'=7, R=9.0 | S=2, A=0) = 0.06\n",
      "p(S'=8, R=10.0 | S=2, A=0) = 0.05\n",
      "p(S'=9, R=11.0 | S=2, A=0) = 0.04\n",
      "p(S'=10, R=5.333333333333333 | S=2, A=0) = 0.16\n",
      "value after action 0 : 0.0\n",
      "action: 1\n",
      "p(S'=0, R=2.0 | S=2, A=1) = 0.08\n",
      "p(S'=1, R=3.0 | S=2, A=1) = 0.1\n",
      "p(S'=2, R=4.0 | S=2, A=1) = 0.13\n",
      "p(S'=3, R=5.0 | S=2, A=1) = 0.13\n",
      "p(S'=4, R=6.0 | S=2, A=1) = 0.11\n",
      "p(S'=5, R=7.0 | S=2, A=1) = 0.09\n",
      "p(S'=6, R=8.0 | S=2, A=1) = 0.07\n",
      "p(S'=7, R=9.0 | S=2, A=1) = 0.06\n",
      "p(S'=8, R=10.0 | S=2, A=1) = 0.05\n",
      "p(S'=9, R=11.0 | S=2, A=1) = 0.04\n",
      "p(S'=10, R=5.333333333333333 | S=2, A=1) = 0.15\n",
      "value after action 1 : 53.64285421903807\n",
      "action: 2\n",
      "p(S'=0, R=2.0 | S=2, A=2) = 0.09\n",
      "p(S'=1, R=3.0 | S=2, A=2) = 0.11\n",
      "p(S'=2, R=4.0 | S=2, A=2) = 0.13\n",
      "p(S'=3, R=5.0 | S=2, A=2) = 0.12\n",
      "p(S'=4, R=6.0 | S=2, A=2) = 0.1\n",
      "p(S'=5, R=7.0 | S=2, A=2) = 0.08\n",
      "p(S'=6, R=8.0 | S=2, A=2) = 0.07\n",
      "p(S'=7, R=9.0 | S=2, A=2) = 0.06\n",
      "p(S'=8, R=10.0 | S=2, A=2) = 0.05\n",
      "p(S'=9, R=11.0 | S=2, A=2) = 0.04\n",
      "p(S'=10, R=5.333333333333333 | S=2, A=2) = 0.15\n",
      "value after action 2 : 53.64285421903807\n",
      "action: 3\n",
      "p(S'=0, R=2.0 | S=2, A=3) = 0.1\n",
      "p(S'=1, R=3.0 | S=2, A=3) = 0.12\n",
      "p(S'=2, R=4.0 | S=2, A=3) = 0.14\n",
      "p(S'=3, R=5.0 | S=2, A=3) = 0.12\n",
      "p(S'=4, R=6.0 | S=2, A=3) = 0.1\n",
      "p(S'=5, R=7.0 | S=2, A=3) = 0.08\n",
      "p(S'=6, R=8.0 | S=2, A=3) = 0.07\n",
      "p(S'=7, R=9.0 | S=2, A=3) = 0.05\n",
      "p(S'=8, R=10.0 | S=2, A=3) = 0.04\n",
      "p(S'=9, R=11.0 | S=2, A=3) = 0.04\n",
      "p(S'=10, R=5.333333333333333 | S=2, A=3) = 0.14\n",
      "value after action 3 : 53.64285421903807\n",
      "V( 2 ): 53.64285421903807\n",
      "delta: 5.578654865789474\n",
      "------\n",
      "state: 3\n",
      "initial value of state 3 : 50.54836984249379\n",
      "action: 0\n",
      "p(S'=0, R=3.0 | S=3, A=0) = 0.06\n",
      "p(S'=1, R=4.0 | S=3, A=0) = 0.08\n",
      "p(S'=2, R=5.0 | S=3, A=0) = 0.09\n",
      "p(S'=3, R=6.0 | S=3, A=0) = 0.11\n",
      "p(S'=4, R=7.0 | S=3, A=0) = 0.12\n",
      "p(S'=5, R=8.0 | S=3, A=0) = 0.1\n",
      "p(S'=6, R=9.0 | S=3, A=0) = 0.08\n",
      "p(S'=7, R=10.0 | S=3, A=0) = 0.07\n",
      "p(S'=8, R=11.0 | S=3, A=0) = 0.06\n",
      "p(S'=9, R=12.0 | S=3, A=0) = 0.05\n",
      "p(S'=10, R=6.333333333333333 | S=3, A=0) = 0.18\n",
      "value after action 0 : 0.0\n",
      "action: 1\n",
      "p(S'=0, R=3.0 | S=3, A=1) = 0.07\n",
      "p(S'=1, R=4.0 | S=3, A=1) = 0.08\n",
      "p(S'=2, R=5.0 | S=3, A=1) = 0.1\n",
      "p(S'=3, R=6.0 | S=3, A=1) = 0.12\n",
      "p(S'=4, R=7.0 | S=3, A=1) = 0.12\n",
      "p(S'=5, R=8.0 | S=3, A=1) = 0.1\n",
      "p(S'=6, R=9.0 | S=3, A=1) = 0.08\n",
      "p(S'=7, R=10.0 | S=3, A=1) = 0.07\n",
      "p(S'=8, R=11.0 | S=3, A=1) = 0.05\n",
      "p(S'=9, R=12.0 | S=3, A=1) = 0.04\n",
      "p(S'=10, R=6.333333333333333 | S=3, A=1) = 0.17\n",
      "value after action 1 : 55.83645691383945\n",
      "action: 2\n",
      "p(S'=0, R=3.0 | S=3, A=2) = 0.07\n",
      "p(S'=1, R=4.0 | S=3, A=2) = 0.09\n",
      "p(S'=2, R=5.0 | S=3, A=2) = 0.11\n",
      "p(S'=3, R=6.0 | S=3, A=2) = 0.13\n",
      "p(S'=4, R=7.0 | S=3, A=2) = 0.11\n",
      "p(S'=5, R=8.0 | S=3, A=2) = 0.09\n",
      "p(S'=6, R=9.0 | S=3, A=2) = 0.08\n",
      "p(S'=7, R=10.0 | S=3, A=2) = 0.06\n",
      "p(S'=8, R=11.0 | S=3, A=2) = 0.05\n",
      "p(S'=9, R=12.0 | S=3, A=2) = 0.04\n",
      "p(S'=10, R=6.333333333333333 | S=3, A=2) = 0.16\n",
      "value after action 2 : 55.83645691383945\n",
      "action: 3\n",
      "p(S'=0, R=3.0 | S=3, A=3) = 0.08\n",
      "p(S'=1, R=4.0 | S=3, A=3) = 0.09\n",
      "p(S'=2, R=5.0 | S=3, A=3) = 0.11\n",
      "p(S'=3, R=6.0 | S=3, A=3) = 0.13\n",
      "p(S'=4, R=7.0 | S=3, A=3) = 0.11\n",
      "p(S'=5, R=8.0 | S=3, A=3) = 0.09\n",
      "p(S'=6, R=9.0 | S=3, A=3) = 0.07\n",
      "p(S'=7, R=10.0 | S=3, A=3) = 0.06\n",
      "p(S'=8, R=11.0 | S=3, A=3) = 0.05\n",
      "p(S'=9, R=12.0 | S=3, A=3) = 0.04\n",
      "p(S'=10, R=6.333333333333333 | S=3, A=3) = 0.16\n",
      "value after action 3 : 55.83645691383945\n",
      "V( 3 ): 55.83645691383945\n",
      "delta: 5.578654865789474\n",
      "------\n",
      "state: 4\n",
      "initial value of state 4 : 52.73072957786323\n",
      "action: 0\n",
      "p(S'=0, R=4.0 | S=4, A=0) = 0.05\n",
      "p(S'=1, R=5.0 | S=4, A=0) = 0.06\n",
      "p(S'=2, R=6.0 | S=4, A=0) = 0.07\n",
      "p(S'=3, R=7.0 | S=4, A=0) = 0.09\n",
      "p(S'=4, R=8.0 | S=4, A=0) = 0.11\n",
      "p(S'=5, R=9.0 | S=4, A=0) = 0.12\n",
      "p(S'=6, R=10.0 | S=4, A=0) = 0.1\n",
      "p(S'=7, R=11.0 | S=4, A=0) = 0.08\n",
      "p(S'=8, R=12.0 | S=4, A=0) = 0.06\n",
      "p(S'=9, R=13.0 | S=4, A=0) = 0.05\n",
      "p(S'=10, R=7.333333333333333 | S=4, A=0) = 0.2\n",
      "value after action 0 : 0.0\n",
      "action: 1\n",
      "p(S'=0, R=4.0 | S=4, A=1) = 0.05\n",
      "p(S'=1, R=5.0 | S=4, A=1) = 0.07\n",
      "p(S'=2, R=6.0 | S=4, A=1) = 0.08\n",
      "p(S'=3, R=7.0 | S=4, A=1) = 0.1\n",
      "p(S'=4, R=8.0 | S=4, A=1) = 0.12\n",
      "p(S'=5, R=9.0 | S=4, A=1) = 0.11\n",
      "p(S'=6, R=10.0 | S=4, A=1) = 0.09\n",
      "p(S'=7, R=11.0 | S=4, A=1) = 0.07\n",
      "p(S'=8, R=12.0 | S=4, A=1) = 0.06\n",
      "p(S'=9, R=13.0 | S=4, A=1) = 0.05\n",
      "p(S'=10, R=7.333333333333333 | S=4, A=1) = 0.2\n",
      "value after action 1 : 57.95189504658481\n",
      "action: 2\n",
      "p(S'=0, R=4.0 | S=4, A=2) = 0.06\n",
      "p(S'=1, R=5.0 | S=4, A=2) = 0.07\n",
      "p(S'=2, R=6.0 | S=4, A=2) = 0.08\n",
      "p(S'=3, R=7.0 | S=4, A=2) = 0.1\n",
      "p(S'=4, R=8.0 | S=4, A=2) = 0.13\n",
      "p(S'=5, R=9.0 | S=4, A=2) = 0.11\n",
      "p(S'=6, R=10.0 | S=4, A=2) = 0.09\n",
      "p(S'=7, R=11.0 | S=4, A=2) = 0.07\n",
      "p(S'=8, R=12.0 | S=4, A=2) = 0.06\n",
      "p(S'=9, R=13.0 | S=4, A=2) = 0.05\n",
      "p(S'=10, R=7.333333333333333 | S=4, A=2) = 0.19\n",
      "value after action 2 : 57.95189504658481\n",
      "action: 3\n",
      "p(S'=0, R=4.0 | S=4, A=3) = 0.06\n",
      "p(S'=1, R=5.0 | S=4, A=3) = 0.07\n",
      "p(S'=2, R=6.0 | S=4, A=3) = 0.09\n",
      "p(S'=3, R=7.0 | S=4, A=3) = 0.11\n",
      "p(S'=4, R=8.0 | S=4, A=3) = 0.13\n",
      "p(S'=5, R=9.0 | S=4, A=3) = 0.1\n",
      "p(S'=6, R=10.0 | S=4, A=3) = 0.08\n",
      "p(S'=7, R=11.0 | S=4, A=3) = 0.07\n",
      "p(S'=8, R=12.0 | S=4, A=3) = 0.06\n",
      "p(S'=9, R=13.0 | S=4, A=3) = 0.05\n",
      "p(S'=10, R=7.333333333333333 | S=4, A=3) = 0.18\n",
      "value after action 3 : 57.95189504658481\n",
      "V( 4 ): 57.95189504658481\n",
      "delta: 5.578654865789474\n",
      "------\n",
      "state: 5\n",
      "initial value of state 5 : 54.799226116804455\n",
      "action: 0\n",
      "p(S'=0, R=5.0 | S=5, A=0) = 0.04\n",
      "p(S'=1, R=6.0 | S=5, A=0) = 0.05\n",
      "p(S'=2, R=7.0 | S=5, A=0) = 0.06\n",
      "p(S'=3, R=8.0 | S=5, A=0) = 0.07\n",
      "p(S'=4, R=9.0 | S=5, A=0) = 0.09\n",
      "p(S'=5, R=10.0 | S=5, A=0) = 0.11\n",
      "p(S'=6, R=11.0 | S=5, A=0) = 0.11\n",
      "p(S'=7, R=12.0 | S=5, A=0) = 0.09\n",
      "p(S'=8, R=13.0 | S=5, A=0) = 0.07\n",
      "p(S'=9, R=14.0 | S=5, A=0) = 0.06\n",
      "p(S'=10, R=8.333333333333332 | S=5, A=0) = 0.24\n",
      "value after action 0 : 0.0\n",
      "action: 1\n",
      "p(S'=0, R=5.0 | S=5, A=1) = 0.04\n",
      "p(S'=1, R=6.0 | S=5, A=1) = 0.05\n",
      "p(S'=2, R=7.0 | S=5, A=1) = 0.06\n",
      "p(S'=3, R=8.0 | S=5, A=1) = 0.08\n",
      "p(S'=4, R=9.0 | S=5, A=1) = 0.1\n",
      "p(S'=5, R=10.0 | S=5, A=1) = 0.12\n",
      "p(S'=6, R=11.0 | S=5, A=1) = 0.11\n",
      "p(S'=7, R=12.0 | S=5, A=1) = 0.09\n",
      "p(S'=8, R=13.0 | S=5, A=1) = 0.07\n",
      "p(S'=9, R=14.0 | S=5, A=1) = 0.06\n",
      "p(S'=10, R=8.333333333333332 | S=5, A=1) = 0.23\n",
      "value after action 1 : 59.961888170469166\n",
      "action: 2\n",
      "p(S'=0, R=5.0 | S=5, A=2) = 0.05\n",
      "p(S'=1, R=6.0 | S=5, A=2) = 0.06\n",
      "p(S'=2, R=7.0 | S=5, A=2) = 0.07\n",
      "p(S'=3, R=8.0 | S=5, A=2) = 0.08\n",
      "p(S'=4, R=9.0 | S=5, A=2) = 0.1\n",
      "p(S'=5, R=10.0 | S=5, A=2) = 0.12\n",
      "p(S'=6, R=11.0 | S=5, A=2) = 0.1\n",
      "p(S'=7, R=12.0 | S=5, A=2) = 0.08\n",
      "p(S'=8, R=13.0 | S=5, A=2) = 0.07\n",
      "p(S'=9, R=14.0 | S=5, A=2) = 0.06\n",
      "p(S'=10, R=8.333333333333332 | S=5, A=2) = 0.22\n",
      "value after action 2 : 59.961888170469166\n",
      "action: 3\n",
      "p(S'=0, R=5.0 | S=5, A=3) = 0.05\n",
      "p(S'=1, R=6.0 | S=5, A=3) = 0.06\n",
      "p(S'=2, R=7.0 | S=5, A=3) = 0.07\n",
      "p(S'=3, R=8.0 | S=5, A=3) = 0.09\n",
      "p(S'=4, R=9.0 | S=5, A=3) = 0.11\n",
      "p(S'=5, R=10.0 | S=5, A=3) = 0.12\n",
      "p(S'=6, R=11.0 | S=5, A=3) = 0.1\n",
      "p(S'=7, R=12.0 | S=5, A=3) = 0.08\n",
      "p(S'=8, R=13.0 | S=5, A=3) = 0.07\n",
      "p(S'=9, R=14.0 | S=5, A=3) = 0.05\n",
      "p(S'=10, R=8.333333333333332 | S=5, A=3) = 0.21\n",
      "value after action 3 : 59.961888170469166\n",
      "V( 5 ): 59.961888170469166\n",
      "delta: 5.578654865789474\n",
      "------\n",
      "state: 6\n",
      "initial value of state 6 : 56.7245201497156\n",
      "action: 0\n",
      "p(S'=0, R=6.0 | S=6, A=0) = 0.03\n",
      "p(S'=1, R=7.0 | S=6, A=0) = 0.04\n",
      "p(S'=2, R=8.0 | S=6, A=0) = 0.05\n",
      "p(S'=3, R=9.0 | S=6, A=0) = 0.06\n",
      "p(S'=4, R=10.0 | S=6, A=0) = 0.07\n",
      "p(S'=5, R=11.0 | S=6, A=0) = 0.09\n",
      "p(S'=6, R=12.0 | S=6, A=0) = 0.11\n",
      "p(S'=7, R=13.0 | S=6, A=0) = 0.11\n",
      "p(S'=8, R=14.0 | S=6, A=0) = 0.09\n",
      "p(S'=9, R=15.0 | S=6, A=0) = 0.07\n",
      "p(S'=10, R=9.333333333333332 | S=6, A=0) = 0.28\n",
      "value after action 0 : 0.0\n",
      "action: 1\n",
      "p(S'=0, R=6.0 | S=6, A=1) = 0.04\n",
      "p(S'=1, R=7.0 | S=6, A=1) = 0.04\n",
      "p(S'=2, R=8.0 | S=6, A=1) = 0.05\n",
      "p(S'=3, R=9.0 | S=6, A=1) = 0.06\n",
      "p(S'=4, R=10.0 | S=6, A=1) = 0.08\n",
      "p(S'=5, R=11.0 | S=6, A=1) = 0.1\n",
      "p(S'=6, R=12.0 | S=6, A=1) = 0.12\n",
      "p(S'=7, R=13.0 | S=6, A=1) = 0.1\n",
      "p(S'=8, R=14.0 | S=6, A=1) = 0.08\n",
      "p(S'=9, R=15.0 | S=6, A=1) = 0.07\n",
      "p(S'=10, R=9.333333333333332 | S=6, A=1) = 0.26\n",
      "value after action 1 : 61.83522888751815\n",
      "action: 2\n",
      "p(S'=0, R=6.0 | S=6, A=2) = 0.04\n",
      "p(S'=1, R=7.0 | S=6, A=2) = 0.05\n",
      "p(S'=2, R=8.0 | S=6, A=2) = 0.06\n",
      "p(S'=3, R=9.0 | S=6, A=2) = 0.07\n",
      "p(S'=4, R=10.0 | S=6, A=2) = 0.08\n",
      "p(S'=5, R=11.0 | S=6, A=2) = 0.1\n",
      "p(S'=6, R=12.0 | S=6, A=2) = 0.12\n",
      "p(S'=7, R=13.0 | S=6, A=2) = 0.1\n",
      "p(S'=8, R=14.0 | S=6, A=2) = 0.08\n",
      "p(S'=9, R=15.0 | S=6, A=2) = 0.06\n",
      "p(S'=10, R=9.333333333333332 | S=6, A=2) = 0.25\n",
      "value after action 2 : 61.83522888751815\n",
      "action: 3\n",
      "p(S'=0, R=6.0 | S=6, A=3) = 0.04\n",
      "p(S'=1, R=7.0 | S=6, A=3) = 0.05\n",
      "p(S'=2, R=8.0 | S=6, A=3) = 0.06\n",
      "p(S'=3, R=9.0 | S=6, A=3) = 0.07\n",
      "p(S'=4, R=10.0 | S=6, A=3) = 0.09\n",
      "p(S'=5, R=11.0 | S=6, A=3) = 0.11\n",
      "p(S'=6, R=12.0 | S=6, A=3) = 0.11\n",
      "p(S'=7, R=13.0 | S=6, A=3) = 0.09\n",
      "p(S'=8, R=14.0 | S=6, A=3) = 0.08\n",
      "p(S'=9, R=15.0 | S=6, A=3) = 0.06\n",
      "p(S'=10, R=9.333333333333332 | S=6, A=3) = 0.24\n",
      "value after action 3 : 61.83522888751815\n",
      "V( 6 ): 61.83522888751815\n",
      "delta: 5.578654865789474\n",
      "------\n",
      "state: 7\n",
      "initial value of state 7 : 58.47219031924462\n",
      "action: 0\n",
      "p(S'=0, R=7.0 | S=7, A=0) = 0.03\n",
      "p(S'=1, R=8.0 | S=7, A=0) = 0.03\n",
      "p(S'=2, R=9.0 | S=7, A=0) = 0.04\n",
      "p(S'=3, R=10.0 | S=7, A=0) = 0.05\n",
      "p(S'=4, R=11.0 | S=7, A=0) = 0.06\n",
      "p(S'=5, R=12.0 | S=7, A=0) = 0.07\n",
      "p(S'=6, R=13.0 | S=7, A=0) = 0.09\n",
      "p(S'=7, R=14.0 | S=7, A=0) = 0.11\n",
      "p(S'=8, R=15.0 | S=7, A=0) = 0.1\n",
      "p(S'=9, R=16.0 | S=7, A=0) = 0.08\n",
      "p(S'=10, R=10.333333333333332 | S=7, A=0) = 0.33\n",
      "value after action 0 : 0.0\n",
      "action: 1\n",
      "p(S'=0, R=7.0 | S=7, A=1) = 0.03\n",
      "p(S'=1, R=8.0 | S=7, A=1) = 0.04\n",
      "p(S'=2, R=9.0 | S=7, A=1) = 0.04\n",
      "p(S'=3, R=10.0 | S=7, A=1) = 0.05\n",
      "p(S'=4, R=11.0 | S=7, A=1) = 0.06\n",
      "p(S'=5, R=12.0 | S=7, A=1) = 0.08\n",
      "p(S'=6, R=13.0 | S=7, A=1) = 0.1\n",
      "p(S'=7, R=14.0 | S=7, A=1) = 0.12\n",
      "p(S'=8, R=15.0 | S=7, A=1) = 0.1\n",
      "p(S'=9, R=16.0 | S=7, A=1) = 0.08\n",
      "p(S'=10, R=10.333333333333332 | S=7, A=1) = 0.31\n",
      "value after action 1 : 63.536235270517786\n",
      "action: 2\n",
      "p(S'=0, R=7.0 | S=7, A=2) = 0.03\n",
      "p(S'=1, R=8.0 | S=7, A=2) = 0.04\n",
      "p(S'=2, R=9.0 | S=7, A=2) = 0.05\n",
      "p(S'=3, R=10.0 | S=7, A=2) = 0.06\n",
      "p(S'=4, R=11.0 | S=7, A=2) = 0.07\n",
      "p(S'=5, R=12.0 | S=7, A=2) = 0.08\n",
      "p(S'=6, R=13.0 | S=7, A=2) = 0.1\n",
      "p(S'=7, R=14.0 | S=7, A=2) = 0.11\n",
      "p(S'=8, R=15.0 | S=7, A=2) = 0.09\n",
      "p(S'=9, R=16.0 | S=7, A=2) = 0.08\n",
      "p(S'=10, R=10.333333333333332 | S=7, A=2) = 0.3\n",
      "value after action 2 : 63.536235270517786\n",
      "action: 3\n",
      "p(S'=0, R=7.0 | S=7, A=3) = 0.03\n",
      "p(S'=1, R=8.0 | S=7, A=3) = 0.04\n",
      "p(S'=2, R=9.0 | S=7, A=3) = 0.05\n",
      "p(S'=3, R=10.0 | S=7, A=3) = 0.06\n",
      "p(S'=4, R=11.0 | S=7, A=3) = 0.07\n",
      "p(S'=5, R=12.0 | S=7, A=3) = 0.09\n",
      "p(S'=6, R=13.0 | S=7, A=3) = 0.11\n",
      "p(S'=7, R=14.0 | S=7, A=3) = 0.11\n",
      "p(S'=8, R=15.0 | S=7, A=3) = 0.09\n",
      "p(S'=9, R=16.0 | S=7, A=3) = 0.07\n",
      "p(S'=10, R=10.333333333333332 | S=7, A=3) = 0.29\n",
      "value after action 3 : 63.536235270517786\n",
      "V( 7 ): 63.536235270517786\n",
      "delta: 5.578654865789474\n",
      "------\n",
      "state: 8\n",
      "initial value of state 8 : 59.99122514568727\n",
      "action: 0\n",
      "p(S'=0, R=8.0 | S=8, A=0) = 0.02\n",
      "p(S'=1, R=9.0 | S=8, A=0) = 0.03\n",
      "p(S'=2, R=10.0 | S=8, A=0) = 0.03\n",
      "p(S'=3, R=11.0 | S=8, A=0) = 0.04\n",
      "p(S'=4, R=12.0 | S=8, A=0) = 0.05\n",
      "p(S'=5, R=13.0 | S=8, A=0) = 0.06\n",
      "p(S'=6, R=14.0 | S=8, A=0) = 0.07\n",
      "p(S'=7, R=15.0 | S=8, A=0) = 0.09\n",
      "p(S'=8, R=16.0 | S=8, A=0) = 0.11\n",
      "p(S'=9, R=17.0 | S=8, A=0) = 0.1\n",
      "p(S'=10, R=11.333333333333332 | S=8, A=0) = 0.39\n",
      "value after action 0 : 0.0\n",
      "action: 1\n",
      "p(S'=0, R=8.0 | S=8, A=1) = 0.02\n",
      "p(S'=1, R=9.0 | S=8, A=1) = 0.03\n",
      "p(S'=2, R=10.0 | S=8, A=1) = 0.04\n",
      "p(S'=3, R=11.0 | S=8, A=1) = 0.04\n",
      "p(S'=4, R=12.0 | S=8, A=1) = 0.05\n",
      "p(S'=5, R=13.0 | S=8, A=1) = 0.06\n",
      "p(S'=6, R=14.0 | S=8, A=1) = 0.08\n",
      "p(S'=7, R=15.0 | S=8, A=1) = 0.1\n",
      "p(S'=8, R=16.0 | S=8, A=1) = 0.12\n",
      "p(S'=9, R=17.0 | S=8, A=1) = 0.09\n",
      "p(S'=10, R=11.333333333333332 | S=8, A=1) = 0.37\n",
      "value after action 1 : 65.01232234083349\n",
      "action: 2\n",
      "p(S'=0, R=8.0 | S=8, A=2) = 0.03\n",
      "p(S'=1, R=9.0 | S=8, A=2) = 0.03\n",
      "p(S'=2, R=10.0 | S=8, A=2) = 0.04\n",
      "p(S'=3, R=11.0 | S=8, A=2) = 0.05\n",
      "p(S'=4, R=12.0 | S=8, A=2) = 0.06\n",
      "p(S'=5, R=13.0 | S=8, A=2) = 0.07\n",
      "p(S'=6, R=14.0 | S=8, A=2) = 0.08\n",
      "p(S'=7, R=15.0 | S=8, A=2) = 0.1\n",
      "p(S'=8, R=16.0 | S=8, A=2) = 0.11\n",
      "p(S'=9, R=17.0 | S=8, A=2) = 0.09\n",
      "p(S'=10, R=11.333333333333332 | S=8, A=2) = 0.35\n",
      "value after action 2 : 65.01232234083349\n",
      "action: 3\n",
      "p(S'=0, R=8.0 | S=8, A=3) = 0.03\n",
      "p(S'=1, R=9.0 | S=8, A=3) = 0.03\n",
      "p(S'=2, R=10.0 | S=8, A=3) = 0.04\n",
      "p(S'=3, R=11.0 | S=8, A=3) = 0.05\n",
      "p(S'=4, R=12.0 | S=8, A=3) = 0.06\n",
      "p(S'=5, R=13.0 | S=8, A=3) = 0.07\n",
      "p(S'=6, R=14.0 | S=8, A=3) = 0.09\n",
      "p(S'=7, R=15.0 | S=8, A=3) = 0.11\n",
      "p(S'=8, R=16.0 | S=8, A=3) = 0.11\n",
      "p(S'=9, R=17.0 | S=8, A=3) = 0.09\n",
      "p(S'=10, R=11.333333333333332 | S=8, A=3) = 0.34\n",
      "value after action 3 : 65.01232234083349\n",
      "V( 8 ): 65.01232234083349\n",
      "delta: 5.578654865789474\n",
      "------\n",
      "state: 9\n",
      "initial value of state 9 : 61.22176354960611\n",
      "action: 0\n",
      "p(S'=0, R=9.0 | S=9, A=0) = 0.02\n",
      "p(S'=1, R=10.0 | S=9, A=0) = 0.02\n",
      "p(S'=2, R=11.0 | S=9, A=0) = 0.03\n",
      "p(S'=3, R=12.0 | S=9, A=0) = 0.03\n",
      "p(S'=4, R=13.0 | S=9, A=0) = 0.04\n",
      "p(S'=5, R=14.0 | S=9, A=0) = 0.05\n",
      "p(S'=6, R=15.0 | S=9, A=0) = 0.06\n",
      "p(S'=7, R=16.0 | S=9, A=0) = 0.08\n",
      "p(S'=8, R=17.0 | S=9, A=0) = 0.09\n",
      "p(S'=9, R=18.0 | S=9, A=0) = 0.11\n",
      "p(S'=10, R=12.333333333333332 | S=9, A=0) = 0.46\n",
      "value after action 0 : 0.0\n",
      "action: 1\n",
      "p(S'=0, R=9.0 | S=9, A=1) = 0.02\n",
      "p(S'=1, R=10.0 | S=9, A=1) = 0.02\n",
      "p(S'=2, R=11.0 | S=9, A=1) = 0.03\n",
      "p(S'=3, R=12.0 | S=9, A=1) = 0.04\n",
      "p(S'=4, R=13.0 | S=9, A=1) = 0.04\n",
      "p(S'=5, R=14.0 | S=9, A=1) = 0.05\n",
      "p(S'=6, R=15.0 | S=9, A=1) = 0.07\n",
      "p(S'=7, R=16.0 | S=9, A=1) = 0.08\n",
      "p(S'=8, R=17.0 | S=9, A=1) = 0.1\n",
      "p(S'=9, R=18.0 | S=9, A=1) = 0.11\n",
      "p(S'=10, R=12.333333333333332 | S=9, A=1) = 0.44\n",
      "value after action 1 : 66.20307536666253\n",
      "action: 2\n",
      "p(S'=0, R=9.0 | S=9, A=2) = 0.02\n",
      "p(S'=1, R=10.0 | S=9, A=2) = 0.03\n",
      "p(S'=2, R=11.0 | S=9, A=2) = 0.03\n",
      "p(S'=3, R=12.0 | S=9, A=2) = 0.04\n",
      "p(S'=4, R=13.0 | S=9, A=2) = 0.05\n",
      "p(S'=5, R=14.0 | S=9, A=2) = 0.06\n",
      "p(S'=6, R=15.0 | S=9, A=2) = 0.07\n",
      "p(S'=7, R=16.0 | S=9, A=2) = 0.08\n",
      "p(S'=8, R=17.0 | S=9, A=2) = 0.1\n",
      "p(S'=9, R=18.0 | S=9, A=2) = 0.11\n",
      "p(S'=10, R=12.333333333333332 | S=9, A=2) = 0.42\n",
      "value after action 2 : 66.20307536666253\n",
      "action: 3\n",
      "p(S'=0, R=9.0 | S=9, A=3) = 0.02\n",
      "p(S'=1, R=10.0 | S=9, A=3) = 0.03\n",
      "p(S'=2, R=11.0 | S=9, A=3) = 0.03\n",
      "p(S'=3, R=12.0 | S=9, A=3) = 0.04\n",
      "p(S'=4, R=13.0 | S=9, A=3) = 0.05\n",
      "p(S'=5, R=14.0 | S=9, A=3) = 0.06\n",
      "p(S'=6, R=15.0 | S=9, A=3) = 0.07\n",
      "p(S'=7, R=16.0 | S=9, A=3) = 0.09\n",
      "p(S'=8, R=17.0 | S=9, A=3) = 0.11\n",
      "p(S'=9, R=18.0 | S=9, A=3) = 0.1\n",
      "p(S'=10, R=12.333333333333332 | S=9, A=3) = 0.4\n",
      "value after action 3 : 66.20307536666253\n",
      "V( 9 ): 66.20307536666253\n",
      "delta: 5.578654865789474\n",
      "------\n",
      "state: 10\n",
      "initial value of state 10 : 55.44837024134253\n",
      "action: 0\n",
      "p(S'=0, R=3.333333333333333 | S=10, A=0) = 0.02\n",
      "p(S'=1, R=4.333333333333333 | S=10, A=0) = 0.02\n",
      "p(S'=2, R=5.333333333333333 | S=10, A=0) = 0.02\n",
      "p(S'=3, R=6.333333333333333 | S=10, A=0) = 0.03\n",
      "p(S'=4, R=7.333333333333333 | S=10, A=0) = 0.03\n",
      "p(S'=5, R=8.333333333333332 | S=10, A=0) = 0.04\n",
      "p(S'=6, R=9.333333333333332 | S=10, A=0) = 0.05\n",
      "p(S'=7, R=10.333333333333332 | S=10, A=0) = 0.06\n",
      "p(S'=8, R=11.333333333333332 | S=10, A=0) = 0.08\n",
      "p(S'=9, R=12.333333333333332 | S=10, A=0) = 0.09\n",
      "p(S'=10, R=6.666666666666666 | S=10, A=0) = 0.55\n",
      "value after action 0 : 0.0\n",
      "action: 1\n",
      "p(S'=0, R=3.333333333333333 | S=10, A=1) = 0.02\n",
      "p(S'=1, R=4.333333333333333 | S=10, A=1) = 0.02\n",
      "p(S'=2, R=5.333333333333333 | S=10, A=1) = 0.02\n",
      "p(S'=3, R=6.333333333333333 | S=10, A=1) = 0.03\n",
      "p(S'=4, R=7.333333333333333 | S=10, A=1) = 0.04\n",
      "p(S'=5, R=8.333333333333332 | S=10, A=1) = 0.04\n",
      "p(S'=6, R=9.333333333333332 | S=10, A=1) = 0.05\n",
      "p(S'=7, R=10.333333333333332 | S=10, A=1) = 0.07\n",
      "p(S'=8, R=11.333333333333332 | S=10, A=1) = 0.08\n",
      "p(S'=9, R=12.333333333333332 | S=10, A=1) = 0.1\n",
      "p(S'=10, R=6.666666666666666 | S=10, A=1) = 0.52\n",
      "value after action 1 : 60.39336481906423\n",
      "action: 2\n",
      "p(S'=0, R=3.333333333333333 | S=10, A=2) = 0.02\n",
      "p(S'=1, R=4.333333333333333 | S=10, A=2) = 0.02\n",
      "p(S'=2, R=5.333333333333333 | S=10, A=2) = 0.03\n",
      "p(S'=3, R=6.333333333333333 | S=10, A=2) = 0.03\n",
      "p(S'=4, R=7.333333333333333 | S=10, A=2) = 0.04\n",
      "p(S'=5, R=8.333333333333332 | S=10, A=2) = 0.05\n",
      "p(S'=6, R=9.333333333333332 | S=10, A=2) = 0.06\n",
      "p(S'=7, R=10.333333333333332 | S=10, A=2) = 0.07\n",
      "p(S'=8, R=11.333333333333332 | S=10, A=2) = 0.09\n",
      "p(S'=9, R=12.333333333333332 | S=10, A=2) = 0.1\n",
      "p(S'=10, R=6.666666666666666 | S=10, A=2) = 0.5\n",
      "value after action 2 : 60.39336481906423\n",
      "action: 3\n",
      "p(S'=0, R=3.333333333333333 | S=10, A=3) = 0.02\n",
      "p(S'=1, R=4.333333333333333 | S=10, A=3) = 0.02\n",
      "p(S'=2, R=5.333333333333333 | S=10, A=3) = 0.03\n",
      "p(S'=3, R=6.333333333333333 | S=10, A=3) = 0.03\n",
      "p(S'=4, R=7.333333333333333 | S=10, A=3) = 0.04\n",
      "p(S'=5, R=8.333333333333332 | S=10, A=3) = 0.05\n",
      "p(S'=6, R=9.333333333333332 | S=10, A=3) = 0.06\n",
      "p(S'=7, R=10.333333333333332 | S=10, A=3) = 0.07\n",
      "p(S'=8, R=11.333333333333332 | S=10, A=3) = 0.09\n",
      "p(S'=9, R=12.333333333333332 | S=10, A=3) = 0.11\n",
      "p(S'=10, R=6.666666666666666 | S=10, A=3) = 0.48\n",
      "value after action 3 : 60.39336481906423\n",
      "V( 10 ): 60.39336481906423\n",
      "delta: 5.578654865789474\n",
      "------\n",
      "Total state value: [49.11151845 51.39467102 53.64285422 55.83645691 57.95189505 59.96188817\n",
      " 61.83522889 63.53623527 65.01232234 66.20307537 60.39336482]\n",
      "Final delta 5.578654865789474\n"
     ]
    }
   ],
   "source": [
    "delta=0\n",
    "for s in env.S:\n",
    "    print('state:', s)\n",
    "    v = V[s]\n",
    "    print('initial value of state', s,':', v)\n",
    "    #---------------\n",
    "    v_prime = 0\n",
    "    for a in env.A:\n",
    "        print('action:', a)\n",
    "        for s_, (r, p) in enumerate(env.transitions(s,a)):\n",
    "            print('p(S\\'={}, R={} | S={}, A={}) = {}'.format(s_, r, s, a, p.round(2)))\n",
    "            v_prime += pi[s, a] * (p * (r + gamma * V[s_]))\n",
    "            #v_prime += pi[s][a]*np.sum(env.transitions(s=s, a=a)[:,1]*(env.transitions(s=s, a=a)[:,0] + gamma*v))\n",
    "        print('value after action', a, ':', v_prime)\n",
    "    V[s] = v_prime\n",
    "    #---------------\n",
    "    delta = max(delta, abs(v - V[s]))\n",
    "    print('V(', s, '):', V[s])\n",
    "    print('delta:', delta)\n",
    "    print('------')\n",
    "print('Total state value:', V)\n",
    "print('Final delta', delta)\n",
    "    #print(max(v - V[s]))\n",
    "    #delta = max(delta, abs(v - V[s]))\n",
    "    #print(delta)"
   ]
  },
  {
   "cell_type": "code",
   "execution_count": 142,
   "metadata": {},
   "outputs": [
    {
     "data": {
      "text/plain": [
       "[18.745717526266073,\n",
       " 12.11598292821149,\n",
       " 9.952672946761481,\n",
       " 8.724365678738959,\n",
       " 7.642363653712778,\n",
       " 6.5510687894022155,\n",
       " 5.578654865789474]"
      ]
     },
     "execution_count": 142,
     "metadata": {},
     "output_type": "execute_result"
    }
   ],
   "source": [
    "#l1 = list()\n",
    "l1.append(delta)\n",
    "l1"
   ]
  },
  {
   "cell_type": "code",
   "execution_count": null,
   "metadata": {},
   "outputs": [],
   "source": [
    "#-----------------------"
   ]
  },
  {
   "cell_type": "markdown",
   "metadata": {
    "deletable": false,
    "editable": false,
    "nbgrader": {
     "checksum": "4d9639225bc3d57f1079ceab1d57d411",
     "grade": false,
     "grade_id": "cell-5c1f3ff4b0e1b0bf",
     "locked": true,
     "schema_version": 1,
     "solution": false
    }
   },
   "source": [
    "The cell below uses the policy evaluation algorithm to evaluate the city's policy, which charges a constant price of one."
   ]
  },
  {
   "cell_type": "code",
   "execution_count": 60,
   "metadata": {
    "deletable": false,
    "editable": false,
    "nbgrader": {
     "checksum": "81f87ef8f5b644c1ad42b971acf6c4df",
     "grade": false,
     "grade_id": "cell-4b69f06bc67962af",
     "locked": true,
     "schema_version": 1,
     "solution": false
    }
   },
   "outputs": [],
   "source": [
    "%reset_selective -f \"^num_spaces$|^num_prices$|^env$|^V$|^pi$|^gamma$|^theta$\"\n",
    "num_spaces = 10\n",
    "num_prices = 4\n",
    "env = tools.ParkingWorld(num_spaces, num_prices)\n",
    "V = np.zeros(num_spaces + 1)\n",
    "city_policy = np.zeros((num_spaces + 1, num_prices))\n",
    "city_policy[:, 1] = 1\n",
    "gamma = 0.9\n",
    "theta = 0.1\n",
    "V = evaluate_policy(env, V, city_policy, gamma, theta)"
   ]
  },
  {
   "cell_type": "markdown",
   "metadata": {
    "deletable": false,
    "editable": false,
    "nbgrader": {
     "checksum": "0f19b2dc70097c6425bbc3bd25a2a500",
     "grade": false,
     "grade_id": "cell-b612ffe570dd7e29",
     "locked": true,
     "schema_version": 1,
     "solution": false
    }
   },
   "source": [
    "You can use the ``plot`` function to visualize the final value function and policy."
   ]
  },
  {
   "cell_type": "code",
   "execution_count": 61,
   "metadata": {
    "deletable": false,
    "editable": false,
    "nbgrader": {
     "checksum": "1dd55a310f0d18634f95c4dd3dc19da3",
     "grade": false,
     "grade_id": "cell-fe5cf61a03a028fc",
     "locked": true,
     "schema_version": 1,
     "solution": false
    }
   },
   "outputs": [
    {
     "data": {
      "image/png": "[encoded data removed]",
      "text/plain": [
       "<Figure size 900x360 with 3 Axes>"
      ]
     },
     "metadata": {},
     "output_type": "display_data"
    }
   ],
   "source": [
    "tools.plot(V, city_policy)"
   ]
  },
  {
   "cell_type": "markdown",
   "metadata": {
    "deletable": false,
    "editable": false,
    "nbgrader": {
     "checksum": "33d9d76d53c4cd379e8b7b0c6ecd5cc6",
     "grade": false,
     "grade_id": "cell-7dbb5974798259f7",
     "locked": true,
     "schema_version": 1,
     "solution": false
    }
   },
   "source": [
    "You can check the output (rounded to one decimal place) against the answer below:<br>\n",
    "State $\\quad\\quad$    Value<br>\n",
    "0 $\\quad\\quad\\quad\\;$        80.0<br>\n",
    "1 $\\quad\\quad\\quad\\;$        81.7<br>\n",
    "2 $\\quad\\quad\\quad\\;$        83.4<br>\n",
    "3 $\\quad\\quad\\quad\\;$        85.1<br>\n",
    "4 $\\quad\\quad\\quad\\;$        86.9<br>\n",
    "5 $\\quad\\quad\\quad\\;$        88.6<br>\n",
    "6 $\\quad\\quad\\quad\\;$        90.1<br>\n",
    "7 $\\quad\\quad\\quad\\;$        91.6<br>\n",
    "8 $\\quad\\quad\\quad\\;$        92.8<br>\n",
    "9 $\\quad\\quad\\quad\\;$        93.8<br>\n",
    "10 $\\quad\\quad\\;\\;\\,\\,$       87.8<br>\n",
    "\n",
    "Observe that the value function qualitatively resembles the city council's preferences &mdash; it monotonically increases as more parking is used, until there is no parking left, in which case the value is lower. Because of the relatively simple reward function (more reward is accrued when many but not all parking spots are taken and less reward is accrued when few or all parking spots are taken) and the highly stochastic dynamics function (each state has positive probability of being reached each time step) the value functions of most policies will qualitatively resemble this graph. However, depending on the intelligence of the policy, the scale of the graph will differ. In other words, better policies will increase the expected return at every state rather than changing the relative desirability of the states. Intuitively, the value of a less desirable state can be increased by making it less likely to remain in a less desirable state. Similarly, the value of a more desirable state can be increased by making it more likely to remain in a more desirable state. That is to say, good policies are policies that spend more time in desirable states and less time in undesirable states. As we will see in this assignment, such a steady state distribution is achieved by setting the price to be low in low occupancy states (so that the occupancy will increase) and setting the price high when occupancy is high (so that full occupancy will be avoided)."
   ]
  },
  {
   "cell_type": "markdown",
   "metadata": {
    "deletable": false,
    "editable": false,
    "nbgrader": {
     "checksum": "c954d5fee584058d6cff61e3274c2e8b",
     "grade": false,
     "grade_id": "cell-eb62290c37932db0",
     "locked": true,
     "schema_version": 1,
     "solution": false
    }
   },
   "source": [
    "The cell below will check that your code passes the test case above. (Your code passed if the cell runs without error.) Your solution will also be checked against hidden test cases for your final grade. (So don't hard code parameters into your solution.)"
   ]
  },
  {
   "cell_type": "code",
   "execution_count": 62,
   "metadata": {
    "deletable": false,
    "editable": false,
    "nbgrader": {
     "checksum": "b096086d94a387a1b453e2592c687575",
     "grade": true,
     "grade_id": "cell-8ff996ea5428abf6",
     "locked": true,
     "points": 1,
     "schema_version": 1,
     "solution": false
    }
   },
   "outputs": [],
   "source": [
    "## Test Code for bellman_update() ## \n",
    "with open('section1', 'rb') as handle:\n",
    "    V_correct = pickle.load(handle)\n",
    "np.testing.assert_array_almost_equal(V, V_correct)"
   ]
  },
  {
   "cell_type": "markdown",
   "metadata": {
    "deletable": false,
    "editable": false,
    "nbgrader": {
     "checksum": "f0d6665789065c7bfa797664e0f43c8c",
     "grade": false,
     "grade_id": "cell-45d6a1c8f905e939",
     "locked": true,
     "schema_version": 1,
     "solution": false
    }
   },
   "source": [
    "## Section 2: Policy Iteration\n",
    "Now the city council would like you to compute a more efficient policy using policy iteration. Policy iteration works by alternating between evaluating the existing policy and making the policy greedy with respect to the existing value function. We have written an outline of the policy iteration algorithm described in chapter 4.3 of the textbook. We will make use of the policy evaluation algorithm you completed in section 1. It is left to you to fill in the `q_greedify_policy` function, such that it modifies the policy at $s$ to be greedy with respect to the q-values at $s$, to complete the policy improvement algorithm."
   ]
  },
  {
   "cell_type": "code",
   "execution_count": 96,
   "metadata": {
    "deletable": false,
    "editable": false,
    "nbgrader": {
     "checksum": "92679d89cf740af64cdc7d37193608cf",
     "grade": false,
     "grade_id": "cell-15ec36bbf7a6fdc6",
     "locked": true,
     "schema_version": 1,
     "solution": false
    }
   },
   "outputs": [],
   "source": [
    "def improve_policy(env, V, pi, gamma):\n",
    "    policy_stable = True\n",
    "    for s in env.S:\n",
    "        old = pi[s].copy()\n",
    "        q_greedify_policy(env, V, pi, s, gamma)\n",
    "        if not np.array_equal(pi[s], old):\n",
    "            policy_stable = False\n",
    "    return pi, policy_stable\n",
    "\n",
    "def policy_iteration(env, gamma, theta):\n",
    "    V = np.zeros(len(env.S))\n",
    "    pi = np.ones((len(env.S), len(env.A))) / len(env.A)\n",
    "    policy_stable = False\n",
    "    while not policy_stable:\n",
    "        V = evaluate_policy(env, V, pi, gamma, theta)\n",
    "        pi, policy_stable = improve_policy(env, V, pi, gamma)\n",
    "    return V, pi"
   ]
  },
  {
   "cell_type": "code",
   "execution_count": 99,
   "metadata": {
    "deletable": false,
    "nbgrader": {
     "checksum": "54f69a62cbb1dfbccfb9fafd6c3cc77a",
     "grade": false,
     "grade_id": "cell-43cadb209544e857",
     "locked": false,
     "schema_version": 1,
     "solution": true
    }
   },
   "outputs": [],
   "source": [
    "# [Graded]\n",
    "def q_greedify_policy(env, V, pi, s, gamma):\n",
    "    \"\"\"Mutate ``pi`` to be greedy with respect to the q-values induced by ``V``.\"\"\"\n",
    "    ### START CODE HERE ###\n",
    "    v_prime = 0\n",
    "    qa_array = np.zeros(len(env.A))\n",
    "    for a in env.A:\n",
    "        #print('action:', a)\n",
    "        for s_, (r, p) in enumerate(env.transitions(s, a)):\n",
    "            v_prime += p * (r + gamma * V[s_])\n",
    "        #print('value after select action',a,':',v_prime)\n",
    "        qa_array[a] = v_prime\n",
    "    #print(qa_array)\n",
    "    pi[s] = np.argmax(qa_array)\n",
    "    ### END CODE HERE ###"
   ]
  },
  {
   "cell_type": "markdown",
   "metadata": {
    "deletable": false,
    "editable": false,
    "nbgrader": {
     "checksum": "b70073346d140503e1572043f2be5c7e",
     "grade": false,
     "grade_id": "cell-d82e51ee8122647c",
     "locked": true,
     "schema_version": 1,
     "solution": false
    }
   },
   "source": [
    "When you are ready to test the policy iteration algorithm, run the cell below."
   ]
  },
  {
   "cell_type": "code",
   "execution_count": 100,
   "metadata": {
    "deletable": false,
    "editable": false,
    "nbgrader": {
     "checksum": "10461117fa8880eab09f9bc0b41e37d5",
     "grade": false,
     "grade_id": "cell-6939985ef9ad58a3",
     "locked": true,
     "schema_version": 1,
     "solution": false
    }
   },
   "outputs": [],
   "source": [
    "%reset_selective -f \"^num_spaces$|^num_prices$|^env$|^V$|^pi$|^gamma$|^theta$\"\n",
    "env = tools.ParkingWorld(num_spaces=10, num_prices=4)\n",
    "gamma = 0.9\n",
    "theta = 0.1\n",
    "V, pi = policy_iteration(env, gamma, theta)"
   ]
  },
  {
   "cell_type": "code",
   "execution_count": null,
   "metadata": {},
   "outputs": [],
   "source": [
    "# ------ try------"
   ]
  },
  {
   "cell_type": "code",
   "execution_count": 90,
   "metadata": {},
   "outputs": [],
   "source": [
    "%reset_selective -f \"^num_spaces$|^num_prices$|^env$|^V$|^pi$|^gamma$|^theta$\"\n",
    "env = tools.ParkingWorld(num_spaces=10, num_prices=4)\n",
    "gamma = 0.9\n",
    "theta = 0.1"
   ]
  },
  {
   "cell_type": "code",
   "execution_count": 91,
   "metadata": {},
   "outputs": [
    {
     "name": "stdout",
     "output_type": "stream",
     "text": [
      "[[0.25 0.25 0.25 0.25]\n",
      " [0.25 0.25 0.25 0.25]\n",
      " [0.25 0.25 0.25 0.25]\n",
      " [0.25 0.25 0.25 0.25]\n",
      " [0.25 0.25 0.25 0.25]\n",
      " [0.25 0.25 0.25 0.25]\n",
      " [0.25 0.25 0.25 0.25]\n",
      " [0.25 0.25 0.25 0.25]\n",
      " [0.25 0.25 0.25 0.25]\n",
      " [0.25 0.25 0.25 0.25]\n",
      " [0.25 0.25 0.25 0.25]]\n",
      "[0.25 0.25 0.25 0.25]\n"
     ]
    }
   ],
   "source": [
    "V = np.zeros(len(env.S))\n",
    "pi = np.ones((len(env.S), len(env.A))) / len(env.A)\n",
    "print(pi)\n",
    "print(pi[0])"
   ]
  },
  {
   "cell_type": "code",
   "execution_count": 95,
   "metadata": {},
   "outputs": [
    {
     "name": "stdout",
     "output_type": "stream",
     "text": [
      "state: 0\n",
      "old_pi: [0.25 0.25 0.25 0.25]\n",
      "value after select action 0 : 3.1912683401479534\n",
      "value after select action 1 : 6.338906014446972\n",
      "value after select action 2 : 9.439691520871689\n",
      "value after select action 3 : 12.490293640043365\n",
      "[ 3.19126834  6.33890601  9.43969152 12.49029364]\n",
      "3\n",
      "state: 1\n",
      "old_pi: [0.25 0.25 0.25 0.25]\n",
      "value after select action 0 : 4.4477761654761245\n",
      "value after select action 1 : 8.828823894372182\n",
      "value after select action 2 : 13.1396113603156\n",
      "value after select action 3 : 17.376697553229054\n",
      "[ 4.44777617  8.82882389 13.13961136 17.37669755]\n",
      "3\n",
      "state: 2\n",
      "old_pi: [0.25 0.25 0.25 0.25]\n",
      "value after select action 0 : 5.731949300978091\n",
      "value after select action 1 : 11.38624648968854\n",
      "value after select action 2 : 16.959949120239212\n",
      "value after select action 3 : 22.450369080206535\n",
      "[ 5.7319493  11.38624649 16.95994912 22.45036908]\n",
      "3\n",
      "state: 3\n",
      "old_pi: [0.25 0.25 0.25 0.25]\n",
      "value after select action 0 : 7.020652910325839\n",
      "value after select action 1 : 13.961397895943845\n",
      "value after select action 2 : 20.820121125373547\n",
      "value after select action 3 : 27.597160892983077\n",
      "[ 7.02065291 13.9613979  20.82012113 27.59716089]\n",
      "3\n",
      "state: 4\n",
      "old_pi: [0.25 0.25 0.25 0.25]\n",
      "value after select action 0 : 8.295261655942383\n",
      "value after select action 1 : 16.51559498414142\n",
      "value after select action 2 : 24.659700567098714\n",
      "value after select action 3 : 32.72715620203976\n",
      "[ 8.29526166 16.51559498 24.65970057 32.7271562 ]\n",
      "3\n",
      "state: 5\n",
      "old_pi: [0.25 0.25 0.25 0.25]\n",
      "value after select action 0 : 9.538408621628308\n",
      "value after select action 1 : 19.013736618300804\n",
      "value after select action 2 : 28.425366384160895\n",
      "value after select action 3 : 37.76482252708457\n",
      "[ 9.53840862 19.01373662 28.42536638 37.76482253]\n",
      "3\n",
      "state: 6\n",
      "old_pi: [0.25 0.25 0.25 0.25]\n",
      "value after select action 0 : 10.732113667928031\n",
      "value after select action 1 : 21.420166360593925\n",
      "value after select action 2 : 32.05747545437199\n",
      "value after select action 3 : 42.63331026237617\n",
      "[10.73211367 21.42016636 32.05747545 42.63331026]\n",
      "3\n",
      "state: 7\n",
      "old_pi: [0.25 0.25 0.25 0.25]\n",
      "value after select action 0 : 11.856416987613535\n",
      "value after select action 1 : 23.69580140167914\n",
      "value after select action 2 : 35.497569590950405\n",
      "value after select action 3 : 47.255959273096565\n",
      "[11.85641699 23.6958014  35.49756959 47.25595927]\n",
      "3\n",
      "state: 8\n",
      "old_pi: [0.25 0.25 0.25 0.25]\n",
      "value after select action 0 : 12.888109275030786\n",
      "value after select action 1 : 25.78840140737008\n",
      "value after select action 2 : 38.67194633185046\n",
      "value after select action 3 : 51.53856772355882\n",
      "[12.88810928 25.78840141 38.67194633 51.53856772]\n",
      "3\n",
      "state: 9\n",
      "old_pi: [0.25 0.25 0.25 0.25]\n",
      "value after select action 0 : 13.79930349407978\n",
      "value after select action 1 : 27.637038133647057\n",
      "value after select action 2 : 41.49408326626664\n",
      "value after select action 3 : 55.370538663162264\n",
      "[13.79930349 27.63703813 41.49408327 55.37053866]\n",
      "3\n",
      "state: 10\n",
      "old_pi: [0.25 0.25 0.25 0.25]\n",
      "value after select action 0 : 7.888951782709794\n",
      "value after select action 1 : 15.845389035091326\n",
      "value after select action 2 : 23.869649465776156\n",
      "value after select action 3 : 31.961733074764282\n",
      "[ 7.88895178 15.84538904 23.86964947 31.96173307]\n",
      "3\n"
     ]
    }
   ],
   "source": [
    "for s in env.S:\n",
    "    print('state:', s)\n",
    "    old = pi[s].copy()\n",
    "    print('old_pi:', old)\n",
    "    #q_greedify_policy(env, V, pi, s, gamma)\n",
    "    v_prime = 0\n",
    "    qa_array = np.zeros(len(env.A))\n",
    "    for a in env.A:\n",
    "        #print('action:', a)\n",
    "        for s_, (r, p) in enumerate(env.transitions(s, a)):\n",
    "            v_prime += p * (r + gamma * V[s_])\n",
    "        print('value after select action',a,':',v_prime)\n",
    "        qa_array[a] = v_prime\n",
    "    #print(qa_array)\n",
    "    pi[s] = np.argmax(qa_array)"
   ]
  },
  {
   "cell_type": "code",
   "execution_count": 93,
   "metadata": {},
   "outputs": [
    {
     "data": {
      "text/plain": [
       "array([ 7.88895178, 15.84538904, 23.86964947, 31.96173307])"
      ]
     },
     "execution_count": 93,
     "metadata": {},
     "output_type": "execute_result"
    }
   ],
   "source": [
    "qa_array"
   ]
  },
  {
   "cell_type": "code",
   "execution_count": null,
   "metadata": {},
   "outputs": [],
   "source": [
    "v_prime = 0\n",
    "    qa_array = np.zeros(len(env.A))\n",
    "    for a in env.A:\n",
    "        for s_, (r, p) in enumerate(env.transitions(s, a)):\n",
    "            v_prime += p * (r + gamma * V[s_])\n",
    "        np.append(qa_array, v_prime)\n",
    "    pi[s] = np.argmax(qa_array)"
   ]
  },
  {
   "cell_type": "code",
   "execution_count": null,
   "metadata": {},
   "outputs": [],
   "source": [
    "# ----------------"
   ]
  },
  {
   "cell_type": "code",
   "execution_count": 101,
   "metadata": {},
   "outputs": [
    {
     "data": {
      "text/plain": [
       "array([nan, nan, nan, nan, nan, nan, nan, nan, nan, nan, nan])"
      ]
     },
     "execution_count": 101,
     "metadata": {},
     "output_type": "execute_result"
    }
   ],
   "source": [
    "V"
   ]
  },
  {
   "cell_type": "markdown",
   "metadata": {
    "deletable": false,
    "editable": false,
    "nbgrader": {
     "checksum": "dcd619f8fcc010b6933b2bba4ce9f9e7",
     "grade": false,
     "grade_id": "cell-acd7f476ed298570",
     "locked": true,
     "schema_version": 1,
     "solution": false
    }
   },
   "source": [
    "You can use the ``plot`` function to visualize the final value function and policy."
   ]
  },
  {
   "cell_type": "code",
   "execution_count": 54,
   "metadata": {
    "deletable": false,
    "editable": false,
    "nbgrader": {
     "checksum": "da17cf77a51f4fabd0ce3a93e2803af8",
     "grade": false,
     "grade_id": "cell-73a1da64ca84a151",
     "locked": true,
     "schema_version": 1,
     "solution": false
    }
   },
   "outputs": [
    {
     "data": {
      "image/png": "[encoded data removed]",
      "text/plain": [
       "<Figure size 900x360 with 3 Axes>"
      ]
     },
     "metadata": {},
     "output_type": "display_data"
    }
   ],
   "source": [
    "tools.plot(V, pi)"
   ]
  },
  {
   "cell_type": "markdown",
   "metadata": {
    "deletable": false,
    "editable": false,
    "nbgrader": {
     "checksum": "0943d42dc7e60e40739b606700125da1",
     "grade": false,
     "grade_id": "cell-92139bf490757a44",
     "locked": true,
     "schema_version": 1,
     "solution": false
    }
   },
   "source": [
    "You can check the value function (rounded to one decimal place) and policy against the answer below:<br>\n",
    "State $\\quad\\quad$    Value $\\quad\\quad$ Action<br>\n",
    "0 $\\quad\\quad\\quad\\;$        81.6 $\\quad\\quad\\;$ 0<br>\n",
    "1 $\\quad\\quad\\quad\\;$        83.3 $\\quad\\quad\\;$ 0<br>\n",
    "2 $\\quad\\quad\\quad\\;$        85.0 $\\quad\\quad\\;$ 0<br>\n",
    "3 $\\quad\\quad\\quad\\;$        86.8 $\\quad\\quad\\;$ 0<br>\n",
    "4 $\\quad\\quad\\quad\\;$        88.5 $\\quad\\quad\\;$ 0<br>\n",
    "5 $\\quad\\quad\\quad\\;$        90.2 $\\quad\\quad\\;$ 0<br>\n",
    "6 $\\quad\\quad\\quad\\;$        91.7 $\\quad\\quad\\;$ 0<br>\n",
    "7 $\\quad\\quad\\quad\\;$        93.1 $\\quad\\quad\\;$ 0<br>\n",
    "8 $\\quad\\quad\\quad\\;$        94.3 $\\quad\\quad\\;$ 0<br>\n",
    "9 $\\quad\\quad\\quad\\;$        95.3 $\\quad\\quad\\;$ 3<br>\n",
    "10 $\\quad\\quad\\;\\;\\,\\,$      89.5 $\\quad\\quad\\;$ 3<br>"
   ]
  },
  {
   "cell_type": "markdown",
   "metadata": {
    "deletable": false,
    "editable": false,
    "nbgrader": {
     "checksum": "6baffe56fd26c8c0fb1db1409801a308",
     "grade": false,
     "grade_id": "cell-c3aed944e874ac92",
     "locked": true,
     "schema_version": 1,
     "solution": false
    }
   },
   "source": [
    "The cell below will check that your code passes the test case above. (Your code passed if the cell runs without error.) Your solution will also be checked against hidden test cases for your final grade. (So don't hard code parameters into your solution.)"
   ]
  },
  {
   "cell_type": "code",
   "execution_count": null,
   "metadata": {
    "deletable": false,
    "editable": false,
    "nbgrader": {
     "checksum": "8135eb9fffa77e2554bb0e5892525988",
     "grade": true,
     "grade_id": "cell-8b8cce6304cb8bfe",
     "locked": true,
     "points": 1,
     "schema_version": 1,
     "solution": false
    }
   },
   "outputs": [],
   "source": [
    "## Test Code for q_greedify_policy() ##\n",
    "with open('section2', 'rb') as handle:\n",
    "    V_correct, pi_correct = pickle.load(handle)\n",
    "np.testing.assert_array_almost_equal(V, V_correct)\n",
    "np.testing.assert_array_almost_equal(pi, pi_correct)"
   ]
  },
  {
   "cell_type": "markdown",
   "metadata": {
    "deletable": false,
    "editable": false,
    "nbgrader": {
     "checksum": "e59b175ca7605a8002c2040043f7b1af",
     "grade": false,
     "grade_id": "cell-e7628124eafb2fc2",
     "locked": true,
     "schema_version": 1,
     "solution": false
    }
   },
   "source": [
    "## Section 3: Value Iteration\n",
    "The city has also heard about value iteration and would like you to implement it. Value iteration works by iteratively applying the Bellman optimality equation for $v_{\\ast}$ to a working value function, as an update rule, as shown below.\n",
    "\n",
    "$$\\large v(s) \\leftarrow \\max_a \\sum_{s', r} p(s', r | s, a)[r + \\gamma v(s')]$$\n",
    "We have written an outline of the value iteration algorithm described in chapter 4.4 of the textbook. It is left to you to fill in the `bellman_optimality_update` function to complete the value iteration algorithm."
   ]
  },
  {
   "cell_type": "code",
   "execution_count": null,
   "metadata": {
    "deletable": false,
    "editable": false,
    "nbgrader": {
     "checksum": "3743399285b929801497af405783d06e",
     "grade": false,
     "grade_id": "cell-75baf962376afa7c",
     "locked": true,
     "schema_version": 1,
     "solution": false
    }
   },
   "outputs": [],
   "source": [
    "def value_iteration(env, gamma, theta):\n",
    "    V = np.zeros(len(env.S))\n",
    "    while True:\n",
    "        delta = 0\n",
    "        for s in env.S:\n",
    "            v = V[s]\n",
    "            bellman_optimality_update(env, V, s, gamma)\n",
    "            delta = max(delta, abs(v - V[s]))\n",
    "        if delta < theta:\n",
    "            break\n",
    "    pi = np.ones((len(env.S), len(env.A))) / len(env.A)\n",
    "    for s in env.S:\n",
    "        q_greedify_policy(env, V, pi, s, gamma)\n",
    "    return V, pi"
   ]
  },
  {
   "cell_type": "code",
   "execution_count": null,
   "metadata": {
    "deletable": false,
    "nbgrader": {
     "checksum": "53654ee726c72456f461afd5a44aa5dc",
     "grade": false,
     "grade_id": "cell-f2c6a183cc0923fb",
     "locked": false,
     "schema_version": 1,
     "solution": true
    }
   },
   "outputs": [],
   "source": [
    "# [Graded]\n",
    "def bellman_optimality_update(env, V, s, gamma):\n",
    "    \"\"\"Mutate ``V`` according to the Bellman optimality update equation.\"\"\"\n",
    "    ### START CODE HERE ###\n",
    "    \n",
    "    ### END CODE HERE ###"
   ]
  },
  {
   "cell_type": "markdown",
   "metadata": {
    "deletable": false,
    "editable": false,
    "nbgrader": {
     "checksum": "c5020582c7de3757fa3ece73983b61d9",
     "grade": false,
     "grade_id": "cell-d472d58e936b371e",
     "locked": true,
     "schema_version": 1,
     "solution": false
    }
   },
   "source": [
    "When you are ready to test the value iteration algorithm, run the cell below."
   ]
  },
  {
   "cell_type": "code",
   "execution_count": null,
   "metadata": {
    "deletable": false,
    "editable": false,
    "nbgrader": {
     "checksum": "7630c900339ae05da7d0a3f5736e884e",
     "grade": false,
     "grade_id": "cell-f609be2c58adc3e2",
     "locked": true,
     "schema_version": 1,
     "solution": false
    }
   },
   "outputs": [],
   "source": [
    "%reset_selective -f \"^num_spaces$|^num_prices$|^env$|^V$|^pi$|^gamma$|^theta$\"\n",
    "env = tools.ParkingWorld(num_spaces=10, num_prices=4)\n",
    "gamma = 0.9\n",
    "theta = 0.1\n",
    "V, pi = value_iteration(env, gamma, theta)"
   ]
  },
  {
   "cell_type": "markdown",
   "metadata": {
    "deletable": false,
    "editable": false,
    "nbgrader": {
     "checksum": "8c88ac444253a80a377a7dce46e0c606",
     "grade": false,
     "grade_id": "cell-cba784b8d158758b",
     "locked": true,
     "schema_version": 1,
     "solution": false
    }
   },
   "source": [
    "You can use the ``plot`` function to visualize the final value function and policy."
   ]
  },
  {
   "cell_type": "code",
   "execution_count": null,
   "metadata": {
    "deletable": false,
    "editable": false,
    "nbgrader": {
     "checksum": "d18a2592a3bac43de72e18cb54357ac9",
     "grade": false,
     "grade_id": "cell-086e26bfb519a017",
     "locked": true,
     "schema_version": 1,
     "solution": false
    }
   },
   "outputs": [],
   "source": [
    "tools.plot(V, pi)"
   ]
  },
  {
   "cell_type": "markdown",
   "metadata": {
    "deletable": false,
    "editable": false,
    "nbgrader": {
     "checksum": "f7ee7bba538aa9300cd636c99403fd72",
     "grade": false,
     "grade_id": "cell-066f9bbdc057115b",
     "locked": true,
     "schema_version": 1,
     "solution": false
    }
   },
   "source": [
    "You can check your value function (rounded to one decimal place) and policy against the answer below:<br>\n",
    "State $\\quad\\quad$    Value $\\quad\\quad$ Action<br>\n",
    "0 $\\quad\\quad\\quad\\;$        81.6 $\\quad\\quad\\;$ 0<br>\n",
    "1 $\\quad\\quad\\quad\\;$        83.3 $\\quad\\quad\\;$ 0<br>\n",
    "2 $\\quad\\quad\\quad\\;$        85.0 $\\quad\\quad\\;$ 0<br>\n",
    "3 $\\quad\\quad\\quad\\;$        86.8 $\\quad\\quad\\;$ 0<br>\n",
    "4 $\\quad\\quad\\quad\\;$        88.5 $\\quad\\quad\\;$ 0<br>\n",
    "5 $\\quad\\quad\\quad\\;$        90.2 $\\quad\\quad\\;$ 0<br>\n",
    "6 $\\quad\\quad\\quad\\;$        91.7 $\\quad\\quad\\;$ 0<br>\n",
    "7 $\\quad\\quad\\quad\\;$        93.1 $\\quad\\quad\\;$ 0<br>\n",
    "8 $\\quad\\quad\\quad\\;$        94.3 $\\quad\\quad\\;$ 0<br>\n",
    "9 $\\quad\\quad\\quad\\;$        95.3 $\\quad\\quad\\;$ 3<br>\n",
    "10 $\\quad\\quad\\;\\;\\,\\,$      89.5 $\\quad\\quad\\;$ 3<br>"
   ]
  },
  {
   "cell_type": "markdown",
   "metadata": {
    "deletable": false,
    "editable": false,
    "nbgrader": {
     "checksum": "3b65819e3413c5a6d4b8d9859f69e5b7",
     "grade": false,
     "grade_id": "cell-7408f0fb3e078296",
     "locked": true,
     "schema_version": 1,
     "solution": false
    }
   },
   "source": [
    "The cell below will check that your code passes the test case above. (Your code passed if the cell runs without error.) Your solution will also be checked against hidden test cases for your final grade. (So don't hard code parameters into your solution.)"
   ]
  },
  {
   "cell_type": "code",
   "execution_count": null,
   "metadata": {
    "deletable": false,
    "editable": false,
    "nbgrader": {
     "checksum": "8330fadde649c957ab85437d34d62829",
     "grade": true,
     "grade_id": "cell-2fa266149b9ff1b1",
     "locked": true,
     "points": 1,
     "schema_version": 1,
     "solution": false
    }
   },
   "outputs": [],
   "source": [
    "## Test Code for bellman_optimality_update() ## \n",
    "with open('section3', 'rb') as handle:\n",
    "    V_correct, pi_correct = pickle.load(handle)\n",
    "np.testing.assert_array_almost_equal(V, V_correct)\n",
    "np.testing.assert_array_almost_equal(pi, pi_correct)"
   ]
  },
  {
   "cell_type": "markdown",
   "metadata": {
    "deletable": false,
    "editable": false,
    "nbgrader": {
     "checksum": "167e35e35d0d33a6e9b26413281e4592",
     "grade": false,
     "grade_id": "cell-12976ff0ac11680d",
     "locked": true,
     "schema_version": 1,
     "solution": false
    }
   },
   "source": [
    "In the value iteration algorithm above, a policy is not explicitly maintained until the value function has converged. Below, we have written an identically behaving value iteration algorithm that maintains an updated policy. Writing value iteration in this form makes its relationship to policy iteration more evident. Policy iteration alternates between doing complete greedifications and complete evaluations. On the other hand, value iteration alternates between doing local greedifications and local evaluations. "
   ]
  },
  {
   "cell_type": "code",
   "execution_count": null,
   "metadata": {
    "deletable": false,
    "editable": false,
    "nbgrader": {
     "checksum": "335160bd36744265e1ac43bd4305766b",
     "grade": false,
     "grade_id": "cell-e7940cfb801649be",
     "locked": true,
     "schema_version": 1,
     "solution": false
    }
   },
   "outputs": [],
   "source": [
    "def value_iteration2(env, gamma, theta):\n",
    "    V = np.zeros(len(env.S))\n",
    "    pi = np.ones((len(env.S), len(env.A))) / len(env.A)\n",
    "    while True:\n",
    "        delta = 0\n",
    "        for s in env.S:\n",
    "            v = V[s]\n",
    "            q_greedify_policy(env, V, pi, s, gamma)\n",
    "            bellman_update(env, V, pi, s, gamma)\n",
    "            delta = max(delta, abs(v - V[s]))\n",
    "        if delta < theta:\n",
    "            break\n",
    "    return V, pi"
   ]
  },
  {
   "cell_type": "markdown",
   "metadata": {
    "deletable": false,
    "editable": false,
    "nbgrader": {
     "checksum": "795713d092ebf77dbe0f17c46d4286cd",
     "grade": false,
     "grade_id": "cell-de841fb4eb290d56",
     "locked": true,
     "schema_version": 1,
     "solution": false
    }
   },
   "source": [
    "You can try the second value iteration algorithm by running the cell below."
   ]
  },
  {
   "cell_type": "code",
   "execution_count": null,
   "metadata": {
    "deletable": false,
    "editable": false,
    "nbgrader": {
     "checksum": "611305ea4f4675854bcaa93f15b6d186",
     "grade": false,
     "grade_id": "cell-2ace3a0ae8ee2e72",
     "locked": true,
     "schema_version": 1,
     "solution": false
    }
   },
   "outputs": [],
   "source": [
    "%reset_selective -f \"^num_spaces$|^num_prices$|^env$|^V$|^pi$|^gamma$|^theta$\"\n",
    "env = tools.ParkingWorld(num_spaces=10, num_prices=4)\n",
    "gamma = 0.9\n",
    "theta = 0.1\n",
    "V, pi = value_iteration2(env, gamma, theta)\n",
    "tools.plot(V, pi)"
   ]
  },
  {
   "cell_type": "markdown",
   "metadata": {
    "deletable": false,
    "editable": false,
    "nbgrader": {
     "checksum": "524f8f37d4321a149e999e2af4c10756",
     "grade": false,
     "grade_id": "cell-6025f917f706302b",
     "locked": true,
     "schema_version": 1,
     "solution": false
    }
   },
   "source": [
    "## Wrapping Up\n",
    "Congratulations, you've completed assignment 2! In this assignment, we investigated policy evaluation and policy improvement, policy iteration and value iteration, and Bellman updates. Gridworld City thanks you for your service!"
   ]
  }
 ],
 "metadata": {
  "coursera": {
   "course_slug": "fundamentals-of-reinforcement-learning",
   "graded_item_id": "1NtiD",
   "launcher_item_id": "5z8bz"
  },
  "kernelspec": {
   "display_name": "Python 3",
   "language": "python",
   "name": "python3"
  }
 },
 "nbformat": 4,
 "nbformat_minor": 1
}
